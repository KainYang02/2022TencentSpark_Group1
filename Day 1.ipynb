{
 "cells": [
  {
   "cell_type": "code",
   "execution_count": 3,
   "id": "e8f9dfec",
   "metadata": {},
   "outputs": [],
   "source": [
    "import tensorcircuit as tc\n",
    "import numpy as np\n",
    "import tensorflow as tf\n",
    "from matplotlib import pyplot as plt\n",
    "from scipy.linalg import expm, sinm, cosm\n",
    "K=tc.set_backend(\"tensorflow\")"
   ]
  },
  {
   "cell_type": "code",
   "execution_count": 4,
   "id": "e0972190",
   "metadata": {},
   "outputs": [],
   "source": [
    "def I(n):\n",
    "    return np.array([1 if i%(n+1)==0 else 0 for i in range(n*n)]).reshape(n,n)\n",
    "def ZERO(n):\n",
    "    return np.array([0 for i in range(n*n)]).reshape(n,n)\n",
    "def _exp(mat,t):\n",
    "    return np.cos(t)*I(mat.shape[0])+1j*np.sin(t)*mat;\n",
    "def conj_tr(v):\n",
    "    return np.conj(v.transpose())\n",
    "def expect(mat,v):\n",
    "    return np.matmul(np.matmul(conj_tr(v),mat),v)[0][0]\n",
    "\n",
    "tx=np.array([[0,1],[1,0]])\n",
    "ty=np.array([[0,-1j],[1j,0]])\n",
    "tz=np.array([[1,0],[0,-1]])\n",
    "v0=np.array([[1],[0]])\n",
    "v1=np.array([[0],[1]])"
   ]
  },
  {
   "cell_type": "markdown",
   "id": "cc9aab8c",
   "metadata": {},
   "source": [
    "### 1.2.1"
   ]
  },
  {
   "cell_type": "code",
   "execution_count": 5,
   "id": "25011db1",
   "metadata": {},
   "outputs": [
    {
     "name": "stdout",
     "output_type": "stream",
     "text": [
      "give a degree theta\n",
      "3\n"
     ]
    },
    {
     "data": {
      "image/png": "[encoded data removed]",
      "text/plain": [
       "<Figure size 432x288 with 1 Axes>"
      ]
     },
     "metadata": {
      "needs_background": "light"
     },
     "output_type": "display_data"
    }
   ],
   "source": [
    "print('give a degree theta')\n",
    "theta=float(input())\n",
    "def R(x):\n",
    "    return np.array([[np.cos(x),np.sin(x)],[-np.sin(x),np.cos(x)]])\n",
    "\n",
    "def draw_circle(avg=\"\"):\n",
    "    x_arr,y_arr=[],[]\n",
    "    for i in range(101):\n",
    "        t=np.pi/50*i;\n",
    "        x_arr.append(np.cos(t))\n",
    "        y_arr.append(np.sin(t))\n",
    "    plt.plot(x_arr,y_arr,avg)\n",
    "\n",
    "def draw_line(ax,ay,bx,by,avg=\"\"):\n",
    "    x_arr,y_arr=[ax,bx],[ay,by]\n",
    "    plt.plot(x_arr,y_arr,avg)\n",
    "\n",
    "v=np.array([[1],[0]])\n",
    "u=np.matmul(R(theta),v)\n",
    "\n",
    "plt.clf()\n",
    "draw_circle('k-')\n",
    "draw_line(0,0,1,0,'b')\n",
    "draw_line(0,0,u[0][0],u[1][0],'b-.')\n",
    "plt.show()"
   ]
  },
  {
   "cell_type": "markdown",
   "id": "cf2afb8d",
   "metadata": {},
   "source": [
    "### 1.2.2"
   ]
  },
  {
   "cell_type": "code",
   "execution_count": 6,
   "id": "a796686e",
   "metadata": {},
   "outputs": [
    {
     "name": "stdout",
     "output_type": "stream",
     "text": [
      "[[0.54030231+0.j         0.        +0.84147098j]\n",
      " [0.        +0.84147098j 0.54030231+0.j        ]]\n",
      "[[ 0.54030231+0.j  0.84147098+0.j]\n",
      " [-0.84147098+0.j  0.54030231+0.j]]\n",
      "[[0.54030231+0.84147098j 0.        +0.j        ]\n",
      " [0.        +0.j         0.54030231-0.84147098j]]\n"
     ]
    }
   ],
   "source": [
    "print(expm(1.j*tx))\n",
    "print(expm(1.j*ty))\n",
    "print(expm(1.j*tz))"
   ]
  },
  {
   "cell_type": "code",
   "execution_count": 7,
   "id": "53e05995",
   "metadata": {},
   "outputs": [],
   "source": [
    "def test(theta):\n",
    "    print(np.allclose(expm(theta*1.j*tx),_exp(tx,theta), atol=0.0001))"
   ]
  },
  {
   "cell_type": "code",
   "execution_count": 8,
   "id": "1fec6b7b",
   "metadata": {},
   "outputs": [
    {
     "name": "stdout",
     "output_type": "stream",
     "text": [
      "True\n"
     ]
    }
   ],
   "source": [
    "test(1)"
   ]
  },
  {
   "cell_type": "markdown",
   "id": "66717ea9",
   "metadata": {},
   "source": [
    "注意到任意一个泡利矩阵 $\\hat{P}$ 都有性质 $P^2=\\bar{P}^T=I$ 。\n",
    "对 $e^{i\\theta\\hat{P}}$ ，我们将它泰勒展开，只会有 $I,iP$ 两项，系数分别是 $\\cos(\\theta)$ 和$\\sin(\\theta)$ 的泰勒展开，得证。"
   ]
  },
  {
   "cell_type": "markdown",
   "id": "a26b94b7",
   "metadata": {},
   "source": [
    "若矩阵欧拉公式 $e^{i\\theta P}=\\cos(\\theta)I+i\\sin(\\theta)P$ 对任意 $\\theta$ 成立，我们取 $-\\theta$ 可以得到$e^{-i\\theta P}=\\cos(\\theta)I-i\\sin(\\theta)P$"
   ]
  },
  {
   "cell_type": "markdown",
   "id": "18c87a35",
   "metadata": {},
   "source": [
    "故 $I=e^{i\\theta P}\\times e^{-i\\theta P}=\\cos^2(\\theta)I^2-i^2\\sin^2(\\theta)P^2=\\cos^2(\\theta)I+\\sin^2(\\theta)P^2$"
   ]
  },
  {
   "cell_type": "markdown",
   "id": "932ebbff",
   "metadata": {},
   "source": [
    "比较各元素可知 $P^2=I$ ，由上述证明易知这样的 $P$ 满足公式。"
   ]
  },
  {
   "cell_type": "markdown",
   "id": "268cdd35",
   "metadata": {},
   "source": [
    "故 $P$ 满足该公式当且仅当 $P^2=I$ "
   ]
  },
  {
   "cell_type": "markdown",
   "id": "623ce789",
   "metadata": {},
   "source": [
    "### 1.2.3"
   ]
  },
  {
   "cell_type": "code",
   "execution_count": 9,
   "id": "f24d0fae",
   "metadata": {},
   "outputs": [],
   "source": [
    "Pauli=[np.array([[1,0],[0,1]]),tc.gates._x_matrix,tc.gates._y_matrix,tc.gates._z_matrix]\n",
    "def expectation(p,q,theta):\n",
    "    P=Pauli[p]\n",
    "    Q=Pauli[q]\n",
    "    v=expm(1.j*theta/2*P)*np.matrix([1,0]).transpose()\n",
    "    return (v.conj().transpose()@Q@v)[0,0]"
   ]
  },
  {
   "cell_type": "code",
   "execution_count": 10,
   "id": "2bc8bd53",
   "metadata": {},
   "outputs": [
    {
     "data": {
      "text/plain": [
       "(-0.9899924966004452+0j)"
      ]
     },
     "execution_count": 10,
     "metadata": {},
     "output_type": "execute_result"
    }
   ],
   "source": [
    "expectation(2,3,3)"
   ]
  },
  {
   "cell_type": "code",
   "execution_count": 11,
   "id": "4e5cc65f",
   "metadata": {},
   "outputs": [
    {
     "name": "stderr",
     "output_type": "stream",
     "text": [
      "/home/tencent_go/anaconda3/envs/tc/lib/python3.8/site-packages/matplotlib/cbook/__init__.py:1298: ComplexWarning: Casting complex values to real discards the imaginary part\n",
      "  return np.asarray(x, float)\n"
     ]
    },
    {
     "data": {
      "image/png": "[encoded data removed]",
      "text/plain": [
       "<Figure size 432x288 with 1 Axes>"
      ]
     },
     "metadata": {
      "needs_background": "light"
     },
     "output_type": "display_data"
    }
   ],
   "source": [
    "plt.clf()\n",
    "x = np.arange(0, 2 * np.pi, 0.01)\n",
    "plt.plot(x, [expectation(1,3, t) for t in x])\n",
    "plt.show()"
   ]
  },
  {
   "cell_type": "markdown",
   "id": "5a2fc1e4",
   "metadata": {},
   "source": [
    "### 1.2.4"
   ]
  },
  {
   "cell_type": "code",
   "execution_count": 12,
   "id": "c0d5c1fe",
   "metadata": {},
   "outputs": [
    {
     "name": "stdout",
     "output_type": "stream",
     "text": [
      "3\n",
      "[[ 3.  0.  0.  0.  0.  0.  0.  0.]\n",
      " [ 0.  1.  0.  0.  0.  0.  0.  0.]\n",
      " [ 0.  0.  1.  0.  0.  0.  0.  0.]\n",
      " [ 0.  0.  0. -1.  0.  0.  0.  0.]\n",
      " [ 0.  0.  0.  0.  1.  0.  0.  0.]\n",
      " [ 0.  0.  0.  0.  0. -1.  0.  0.]\n",
      " [ 0.  0.  0.  0.  0.  0. -1.  0.]\n",
      " [ 0.  0.  0.  0.  0.  0.  0. -3.]]\n",
      "3.0\n"
     ]
    }
   ],
   "source": [
    "n=int(input())\n",
    "H = np.zeros((2**n, 2**n))\n",
    "for i in range(n):\n",
    "    H += np.kron(np.kron(np.identity(2**i),tc.gates._z_matrix),np.identity(2**(n-i-1)))\n",
    "for i in range(n-1):\n",
    "    H += np.kron(np.kron(np.identity(2**i),tc.gates._x_matrix),np.identity(2**(n-i-1)))*np.kron(np.kron(np.identity(2**(i+1)),tc.gates._x_matrix),np.identity(2**(n-i-2)))\n",
    "print(H)\n",
    "print(H[0,0])"
   ]
  },
  {
   "cell_type": "markdown",
   "id": "77e1509d",
   "metadata": {},
   "source": [
    "### 1.2.5"
   ]
  },
  {
   "cell_type": "code",
   "execution_count": 13,
   "id": "324a015e",
   "metadata": {},
   "outputs": [
    {
     "name": "stdout",
     "output_type": "stream",
     "text": [
      "[[ 0.        ]\n",
      " [ 0.        ]\n",
      " [ 0.70710678]\n",
      " [ 0.        ]\n",
      " [ 0.        ]\n",
      " [-0.70710678]\n",
      " [ 0.        ]\n",
      " [ 0.        ]]\n"
     ]
    }
   ],
   "source": [
    "def multi_kron(arr):\n",
    "    ans=I(1)\n",
    "    for i in arr:\n",
    "        ans=np.kron(ans,i)\n",
    "    return ans\n",
    "print(1/np.sqrt(2)*(multi_kron([v0,v1,v0])-multi_kron([v1,v0,v1])))"
   ]
  },
  {
   "cell_type": "markdown",
   "id": "5f40992d",
   "metadata": {},
   "source": [
    "### 1.3.1"
   ]
  },
  {
   "cell_type": "code",
   "execution_count": 14,
   "id": "96254390",
   "metadata": {},
   "outputs": [
    {
     "name": "stdout",
     "output_type": "stream",
     "text": [
      "0.5403018851213304 0.5403023058681398 -4.2074680939307996e-07\n"
     ]
    }
   ],
   "source": [
    "def number_differential(f,x,delta):\n",
    "    return (f(x+delta)-f(x))/delta\n",
    "\n",
    "# sample\n",
    "print(number_differential(np.sin,1,1e-6),np.cos(1),number_differential(np.sin,1,1e-6)-np.cos(1))"
   ]
  },
  {
   "cell_type": "markdown",
   "id": "12a53770",
   "metadata": {},
   "source": [
    "### 1.3.2"
   ]
  },
  {
   "cell_type": "markdown",
   "id": "1e574d3a",
   "metadata": {},
   "source": [
    "$$\n",
    "\\begin{align}\n",
    "f'(x)=&A\\cos(x+B)=\\dfrac{A\\sin(x+\\delta+B)-A\\sin(x-\\delta+B)}\\tau\\\\\n",
    "=&\\dfrac{2A\\cos (x+B)\\sin \\delta}\\tau\\Rightarrow\\\\\n",
    "\\tau=&2\\sin\\delta\\\\\n",
    "f'(x)=&\\dfrac{A\\sin(x+\\delta+B)-A\\sin(x-\\delta+B)}{2\\sin\\delta}=\\dfrac{f(x+\\delta)-f(x-\\delta)}{2\\sin\\delta}\\\\\n",
    "\\end{align}\n",
    "$$"
   ]
  },
  {
   "cell_type": "code",
   "execution_count": 15,
   "id": "278eace7",
   "metadata": {},
   "outputs": [
    {
     "name": "stdout",
     "output_type": "stream",
     "text": [
      "(-1.3072872417272239, -1.3072872417272239)\n"
     ]
    }
   ],
   "source": [
    "def sin_differential(x,A,B,delta=1):\n",
    "    t=np.sin(delta)*2\n",
    "    return (A*np.cos(x+B),(A*np.sin(x+delta+B)-A*np.sin(x-delta+B))/t)\n",
    "\n",
    "# sample\n",
    "print(sin_differential(1,2,3))"
   ]
  },
  {
   "cell_type": "markdown",
   "id": "13f95061",
   "metadata": {},
   "source": [
    "### 1.3.3"
   ]
  },
  {
   "cell_type": "markdown",
   "id": "8e5a7faf",
   "metadata": {},
   "source": [
    "不难发现，$f=A\\sin(x+B)$，其中$A=\\{0,1\\}$，所以：\n",
    "\n",
    "$$\n",
    "f'(x)=\\dfrac{f(x+1)-f(x-1)}{2\\sin 1}\n",
    "$$"
   ]
  },
  {
   "cell_type": "code",
   "execution_count": 16,
   "id": "98c484bf",
   "metadata": {},
   "outputs": [
    {
     "data": {
      "image/png": "[encoded data removed]",
      "text/plain": [
       "<Figure size 432x288 with 1 Axes>"
      ]
     },
     "metadata": {
      "needs_background": "light"
     },
     "output_type": "display_data"
    },
    {
     "data": {
      "image/png": "[encoded data removed]",
      "text/plain": [
       "<Figure size 432x288 with 1 Axes>"
      ]
     },
     "metadata": {
      "needs_background": "light"
     },
     "output_type": "display_data"
    },
    {
     "data": {
      "image/png": "[encoded data removed]",
      "text/plain": [
       "<Figure size 432x288 with 1 Axes>"
      ]
     },
     "metadata": {
      "needs_background": "light"
     },
     "output_type": "display_data"
    }
   ],
   "source": [
    "def f(id1,id2):\n",
    "    Mat=[I(2),tx,ty,tz]\n",
    "    class test_1_helper:\n",
    "        def __init__(self,p,q):\n",
    "            self.P=p\n",
    "            self.Q=q\n",
    "        def __call__(self,t):\n",
    "            vt=np.matmul(_exp(self.P,t/2),v0)\n",
    "            return expect(self.Q,vt).real\n",
    "    return test_1_helper(Mat[id1],Mat[id2])\n",
    "\n",
    "def draw_function(f,s,t,point_num,avg=\"\"):\n",
    "    x_arr,y_arr=[],[]\n",
    "    for i in range(point_num+1):\n",
    "        v=s+(t-s)*1./point_num*i;\n",
    "        x_arr.append(v)\n",
    "        y_arr.append(f(v))\n",
    "    plt.plot(x_arr,y_arr)\n",
    "\n",
    "def f_differential(id1,id2,x):\n",
    "    t=np.sin(1)*2\n",
    "    F=f(id1,id2)\n",
    "    return (F(x+1)-F(x-1))/t\n",
    "\n",
    "def check(id1,id2,x):\n",
    "    F=f(id1,id2)\n",
    "    y=F(x)\n",
    "    dy=f_differential(id1,id2,x)\n",
    "    plt.clf()\n",
    "    draw_function(F,x-np.pi,x+np.pi,100)\n",
    "    draw_line(x-1,y-dy,x+1,y+dy)\n",
    "    plt.show()\n",
    "\n",
    "# sample\n",
    "check(2,1,1)\n",
    "check(2,0,1)\n",
    "check(1,2,0)"
   ]
  },
  {
   "cell_type": "markdown",
   "id": "6031e73d",
   "metadata": {},
   "source": [
    "### 1.3.4"
   ]
  },
  {
   "cell_type": "code",
   "execution_count": 17,
   "id": "7a14f010",
   "metadata": {},
   "outputs": [
    {
     "name": "stdout",
     "output_type": "stream",
     "text": [
      "[[-0.99999955+0.j]] [[-1.56984791+0.j]]\n"
     ]
    }
   ],
   "source": [
    "def expectation_of_matrix(a0,a1,theta):\n",
    "    P=Pauli[a0]\n",
    "    Q=Pauli[a1]\n",
    "    v_theta=np.matmul(expm(0.5*1j*theta*P),v0)\n",
    "    intermediate=np.matmul(Q,v_theta)\n",
    "    return np.matmul(np.transpose(v_theta).conj(),intermediate)\n",
    "\n",
    "def differential_z_1(f,x,y,z):\n",
    "    delta=np.pi/6\n",
    "    diff1=f(x,y,z+delta)-f(x,y,z-delta)\n",
    "    return diff1\n",
    "\n",
    "\n",
    "def found_min_f(step,x_0,g):\n",
    "    f_min=g(1,2,x_0)\n",
    "    diff=differential_z_1(g,1,2,x_0)\n",
    "    while abs(diff)>=0.001:\n",
    "        f_temp=g(1,2,x_0-step*diff)\n",
    "        if f_temp<f_min:\n",
    "            x_0=x_0-step*diff\n",
    "            f_min=f_temp\n",
    "        else:\n",
    "            step=step/2\n",
    "        diff=differential_z_1(g,1,2,x_0)\n",
    "    return f_min,x_0\n",
    "\n",
    "f_min,x_0=found_min_f(0.1,0.25*np.pi,expectation_of_matrix)\n",
    "print(f_min,x_0)"
   ]
  },
  {
   "cell_type": "markdown",
   "id": "64a6263a",
   "metadata": {},
   "source": [
    "### 1.3.5"
   ]
  },
  {
   "cell_type": "code",
   "execution_count": 19,
   "id": "804ed06d",
   "metadata": {},
   "outputs": [
    {
     "name": "stdout",
     "output_type": "stream",
     "text": [
      "tf.Tensor(-0.9999995502491636, shape=(), dtype=float64) tf.Tensor((-1.5698479061394408+0j), shape=(), dtype=complex128)\n"
     ]
    }
   ],
   "source": [
    "tc.set_dtype(\"complex128\")\n",
    "\n",
    "def expectation_of_matrix_1(a0,a1,theta):\n",
    "    P=Pauli[a0]\n",
    "    P=tc.array_to_tensor(P)\n",
    "    Q=Pauli[a1]\n",
    "    Q=tc.array_to_tensor(Q)\n",
    "    v_theta=tc.backend.expm(0.5*1j*theta*P)@v0\n",
    "    intermediate=Q@v_theta\n",
    "    return K.real((K.transpose(K.conj(v_theta))@intermediate)[0][0])\n",
    "\n",
    "def found_min_f_1(step,x_0,g):\n",
    "    f_min=g(1,2,x_0)\n",
    "    diff=K.grad(g,argnums=2)(1,2,x_0)\n",
    "    while abs(diff)>=1e-3:\n",
    "        f_temp=g(1,2,x_0-step*diff)\n",
    "        if f_temp<f_min:\n",
    "            x_0=x_0-step*diff\n",
    "            f_min=f_temp\n",
    "        else:\n",
    "            step=step/2\n",
    "        diff=K.grad(g,argnums=2)(1,2,x_0)\n",
    "    return f_min,x_0\n",
    "    \n",
    "f_min,x_0=found_min_f_1(0.1,tc.array_to_tensor(0.25*np.pi),expectation_of_matrix_1)\n",
    "print(f_min,x_0)"
   ]
  },
  {
   "cell_type": "markdown",
   "id": "b24c0722",
   "metadata": {},
   "source": [
    "### 1.4.1"
   ]
  },
  {
   "cell_type": "code",
   "execution_count": 20,
   "id": "2859724b",
   "metadata": {},
   "outputs": [
    {
     "name": "stdout",
     "output_type": "stream",
     "text": [
      "tf.Tensor([0.70710677+0.j 0.        +0.j 0.        +0.j 0.70710677+0.j], shape=(4,), dtype=complex128)\n",
      "     ┌───┐     \n",
      "q_0: ┤ H ├──■──\n",
      "     └───┘┌─┴─┐\n",
      "q_1: ─────┤ X ├\n",
      "          └───┘\n",
      "tf.Tensor([0.49999998+0.j 0.49999998+0.j 0.49999998+0.j 0.49999998+0.j], shape=(4,), dtype=complex128)\n",
      "     ┌───┐\n",
      "q_0: ┤ H ├\n",
      "     ├───┤\n",
      "q_1: ┤ H ├\n",
      "     └───┘\n",
      "tf.Tensor([0.+0.j 0.+0.j 0.+0.j 0.+0.j 1.+0.j 0.+0.j 0.+0.j 0.+0.j], shape=(8,), dtype=complex128)\n",
      "     ┌────┐   \n",
      "q_0: ┤ U1 ├─X─\n",
      "     ├────┤ │ \n",
      "q_1: ┤ U2 ├─X─\n",
      "     └────┘ │ \n",
      "q_2: ───────■─\n",
      "              \n"
     ]
    }
   ],
   "source": [
    "def n_qbit_circuit1(n):\n",
    "    c=tc.Circuit(n)\n",
    "    c.h(0)\n",
    "    for i in range(1,n):\n",
    "        c.cnot(0,i)\n",
    "    print(c.state())\n",
    "    print(c.draw())\n",
    "\n",
    "def n_qbit_circuit2(n):\n",
    "    c=tc.Circuit(n)\n",
    "    for i in range(n):\n",
    "        c.h(i)\n",
    "    print(c.state())\n",
    "    print(c.draw())\n",
    "\n",
    "n_qbit_circuit1(2)\n",
    "n_qbit_circuit2(2)\n",
    "\n",
    "def given_transpose():\n",
    "    c=tc.Circuit(3)\n",
    "    c.ANY(0,unitary=tc.array_to_tensor([[0,1],[1,0]]),name=\"U1\")\n",
    "    c.ANY(1,unitary=tc.array_to_tensor([[1,0],[0,-1]]),name=\"U2\")\n",
    "    c.cswap(2,0,1)\n",
    "    print(c.state())\n",
    "    print(c.draw())\n",
    "\n",
    "given_transpose()"
   ]
  },
  {
   "cell_type": "markdown",
   "id": "90da9e0a",
   "metadata": {},
   "source": [
    "对第一个量子线路，考虑将第一个量子比特经Hadamard门转换为 $|0\\rangle+|1\\rangle$,再用CNOT门将其余量子比特进行控制"
   ]
  },
  {
   "cell_type": "markdown",
   "id": "b893aac0",
   "metadata": {},
   "source": [
    "对第二个量子线路，每个量子比特经Hadamard门转换为 $|0\\rangle+|1\\rangle$，即得到结果"
   ]
  },
  {
   "cell_type": "markdown",
   "id": "0dce0ac4",
   "metadata": {},
   "source": [
    " 对第三个量子线路，引入辅助量子比特，用辅助量子比特与CSWAP门使得经U1与U2变换的量子态形成叠加"
   ]
  },
  {
   "cell_type": "markdown",
   "id": "684eb8e1",
   "metadata": {},
   "source": [
    "### 1.4.2"
   ]
  },
  {
   "cell_type": "code",
   "execution_count": 21,
   "id": "9f9f9aa0",
   "metadata": {},
   "outputs": [
    {
     "data": {
      "image/png": "[encoded data removed]",
      "text/plain": [
       "<Figure size 432x288 with 1 Axes>"
      ]
     },
     "metadata": {
      "needs_background": "light"
     },
     "output_type": "display_data"
    },
    {
     "name": "stdout",
     "output_type": "stream",
     "text": [
      "tf.Tensor(\n",
      "[[-0.35355338 -0.6123724 ]\n",
      " [-0.70710677 -0.70710677]], shape=(2, 2), dtype=float32)\n",
      "tf.Tensor(-0.707106747077096, shape=(), dtype=float64)\n"
     ]
    }
   ],
   "source": [
    "def exp_sumz(n,nlayers,param):\n",
    "    c=tc.Circuit(n)\n",
    "    for j in range(nlayers):\n",
    "        for i in range(n):\n",
    "            c.rx(i,theta=param[i][j])\n",
    "        for i in range(n-1):\n",
    "            c.cnot(i,i+1)\n",
    "    return K.real(K.sum([c.expectation_ps(z=[i]) for i in range(n)]))\n",
    "\n",
    "X=np.arange(0,2*np.pi,0.01)\n",
    "plt.plot(X,[exp_sumz(2,2,[[np.pi/6,np.pi/4],[np.pi/4,x]]) for x in X])\n",
    "plt.show()\n",
    "print(K.grad(exp_sumz, argnums=2)(2,2,K.convert_to_tensor([[np.pi/6,np.pi/4],[np.pi/4,np.pi/4]])))\n",
    "\n",
    "print(exp_sumz(2,2,[[np.pi/6,np.pi/4],[np.pi/4,np.pi/4+np.pi/6]])-\n",
    "      exp_sumz(2,2,[[np.pi/6,np.pi/4],[np.pi/4,np.pi/4-np.pi/6]]))"
   ]
  },
  {
   "cell_type": "markdown",
   "id": "4de57400",
   "metadata": {},
   "source": [
    "验证参数平移在多个参数时是否仍然成立"
   ]
  },
  {
   "cell_type": "markdown",
   "id": "e5eb69dd",
   "metadata": {},
   "source": [
    "### 1.4.3"
   ]
  },
  {
   "cell_type": "markdown",
   "id": "77d49338",
   "metadata": {},
   "source": [
    "#### 用 CNOT 门实现 SWAP 门\n",
    "\n",
    "如果已知可以不用辅助位只用控制非门实现交换门，那么可以做如下考量：线路上仅能执行两种控制非门，而连续执行两个相同的控制非门没有任何意义，所以相邻两个控制非门的控制位与目标位一定分别不同。又两位地位相同，因而可以模拟单一过程直到发现执行了交换门，并发现为 3 次。\n",
    "\n",
    "实际上 OI 中存在一种交换两数 `std::enable_if_t<std::is_unsigned_v<T>, T> a, b;` 的方法 `a ^= b ^= a ^= b`，分解到每一位上实际上就是这个过程（控制非门对应于异或赋值）。\n",
    "\n",
    "```python\n",
    "c = tc.Circuit(2)\n",
    "\n",
    "c.cnot(0, 1)\n",
    "c.cnot(1, 0)\n",
    "c.cnot(0, 1)\n",
    "\n",
    "d = tc.Circuit(2)\n",
    "d.swap(0, 1)\n",
    "\n",
    "print(np.allclose(c.matrix(), d.matrix()))\n",
    "c.draw(output='mpl')\n",
    "```\n",
    "\n",
    "![](./swap_by_cnot.png)\n",
    "\n",
    "#### 用 CNOT 门和 Rz 门实现 Rzz 门\n",
    "\n",
    "$$\n",
    "\\begin{aligned}\n",
    "R_z(\\theta)&=\\exp\\left(-i\\theta/2\\hat Z\\right).\\\\\n",
    "R_{zz}(\\theta)&=\\exp\\left(-i\\theta/2\\hat Z\\otimes\\hat Z\\right).\n",
    "\\end{aligned}\n",
    "$$\n",
    "\n",
    "简单计算知\n",
    "\n",
    "$$\n",
    "\\hat Z\\otimes\\hat Z=\\begin{pmatrix}\n",
    "1&0&0&0\\\\\n",
    "0&-1&0&0\\\\\n",
    "0&0&-1&0\\\\\n",
    "0&0&0&1\n",
    "\\end{pmatrix}.\n",
    "$$\n",
    "\n",
    "感性理解，$|00\\rangle,|11\\rangle$ 对应一位的 $|0\\rangle$，$|01\\rangle,|10\\rangle$ 对应 $|1\\rangle$，这可以通过控制非做到。\n",
    "\n",
    "```python\n",
    "c = tc.Circuit(2)\n",
    "\n",
    "theta = float(input())\n",
    "\n",
    "c.cnot(0, 1)\n",
    "c.rz(1, theta = theta)\n",
    "c.cnot(0, 1)\n",
    "c.cnot(1, 0)\n",
    "c.rz(0, theta = theta)\n",
    "c.cnot(1, 0)\n",
    "\n",
    "d = tc.Circuit(2)\n",
    "d.rzz(0, 1, theta=theta)\n",
    "\n",
    "print(np.allclose(c.matrix(), d.matrix()))\n",
    "c.draw(output='mpl')\n",
    "```\n",
    "\n",
    "![](./rzz_by_cnot_rz.png)\n",
    "\n",
    "容易计算验证。"
   ]
  },
  {
   "cell_type": "markdown",
   "id": "75b38474",
   "metadata": {},
   "source": [
    "### 1.4.4"
   ]
  },
  {
   "cell_type": "markdown",
   "id": "5a049660",
   "metadata": {},
   "source": [
    "考虑以下代码实现的线路及测量的得到的结果。\n",
    "\n",
    "```python\n",
    "def hmtest(s, u):\n",
    "    np.testing.assert_allclose(\n",
    "        np.conj(u) @ np.transpose(u), np.eye(u.shape[-1]), atol=1e-6\n",
    "    )\n",
    "    input_state = np.kron(np.array([1, 0]), s)\n",
    "    n = int(np.log(s.shape[-1]) / np.log(2))\n",
    "    c = tc.Circuit(n + 1, inputs=input_state)\n",
    "    c.H(0)\n",
    "    c.multicontrol(*range(n + 1), ctrl=[1], unitary=u)\n",
    "    c.H(0)\n",
    "    return c.expectation_ps(z=[0])\n",
    "\n",
    "\n",
    "hmtest(\n",
    "    np.array([1.0, 0, 0, 0]),\n",
    "    np.kron(np.array([[1.0, 0], [0, -1]]), np.array([[1.0, 0], [0, -1]])),\n",
    ")\n",
    "```\n",
    "\n",
    "理解线路图，其实际上计算的是 $v^{\\mathsf T}\\hat Zv$，其中\n",
    "\n",
    "$$\n",
    "v=\\frac12\n",
    "\\begin{pmatrix}\n",
    "I&I\\\\\n",
    "I&-I\\\\\n",
    "\\end{pmatrix}\n",
    "\\begin{pmatrix}\n",
    "I&0\\\\\n",
    "0&U\\\\\n",
    "\\end{pmatrix}\n",
    "\\begin{pmatrix}\n",
    "I&I\\\\\n",
    "I&-I\\\\\n",
    "\\end{pmatrix}\n",
    "\\begin{pmatrix}\n",
    "S\\\\\n",
    "0\n",
    "\\end{pmatrix}=\\frac12\n",
    "\\begin{pmatrix}\n",
    "S+US\\\\\n",
    "S-US\n",
    "\\end{pmatrix}.\n",
    "$$\n",
    "\n",
    "即测量 $\\hat Z$ 关于 $\\displaystyle\\frac12\n",
    "\\begin{pmatrix}\n",
    "S+US\\\\\n",
    "S-US\n",
    "\\end{pmatrix}$ 的期望。"
   ]
  },
  {
   "cell_type": "code",
   "execution_count": null,
   "id": "24e4a47d",
   "metadata": {},
   "outputs": [],
   "source": []
  }
 ],
 "metadata": {
  "kernelspec": {
   "display_name": "Python 3 (ipykernel)",
   "language": "python",
   "name": "python3"
  },
  "language_info": {
   "codemirror_mode": {
    "name": "ipython",
    "version": 3
   },
   "file_extension": ".py",
   "mimetype": "text/x-python",
   "name": "python",
   "nbconvert_exporter": "python",
   "pygments_lexer": "ipython3",
   "version": "3.8.13"
  }
 },
 "nbformat": 4,
 "nbformat_minor": 5
}
