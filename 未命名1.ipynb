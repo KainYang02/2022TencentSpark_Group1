{
 "cells": [
  {
   "cell_type": "code",
   "execution_count": 19,
   "id": "c3a12f30",
   "metadata": {
    "scrolled": true
   },
   "outputs": [],
   "source": [
    "from matplotlib import pyplot as plt\n",
    "import numpy as np\n",
    "import tensorcircuit as tc\n",
    "def R(t):\n",
    "    return np.array([[np.cos(t),np.sin(t)],[-np.sin(t),np.cos(t)]])\n",
    "from scipy import linalg\n",
    "\n",
    "def I(n):\n",
    "    return np.array([1 if i%(n+1)==0 else 0 for i in range(n*n)]).reshape(n,n)\n",
    "def ZERO(n):\n",
    "    return np.array([0 for i in range(n*n)]).reshape(n,n)\n",
    "def _exp(mat,t):\n",
    "    return np.cos(t)*I(mat.shape[0])+1j*np.sin(t)*mat;\n",
    "def conj_tr(v):\n",
    "    return np.conj(v.transpose())\n",
    "def expect(mat,v):\n",
    "    return np.matmul(np.matmul(conj_tr(v),mat),v)[0][0]\n",
    "\n",
    "\n",
    "tx=np.array([[0,1],[1,0]])\n",
    "ty=np.array([[0,-1j],[1j,0]])\n",
    "tz=np.array([[1,0],[0,-1]])\n",
    "v0=np.array([[1],[0]])\n",
    "v1=np.array([[0],[1]])\n",
    "\n",
    "def f(id1,id2):\n",
    "    Mat=[I(2),tx,ty,tz]\n",
    "    class test_1_helper:\n",
    "        def __init__(self,p,q):\n",
    "            self.P=p\n",
    "            self.Q=q\n",
    "        def __call__(self,t):\n",
    "            vt=np.matmul(_exp(self.P,t/2),v0)\n",
    "            return expect(self.Q,vt).real\n",
    "    return test_1_helper(Mat[id1],Mat[id2])\n",
    "\n",
    "def draw_function(f,s,t,point_num,avg=\"\"):\n",
    "    x_arr,y_arr=[],[]\n",
    "    for i in range(point_num+1):\n",
    "        v=s+(t-s)*1./point_num*i;\n",
    "        x_arr.append(v)\n",
    "        y_arr.append(f(v))\n",
    "    plt.plot(x_arr,y_arr)\n",
    "def draw_line(ax,ay,bx,by,avg=\"\"):\n",
    "    x_arr,y_arr=[ax,bx],[ay,by]\n",
    "    plt.plot(x_arr,y_arr,avg)\n",
    "    \n",
    "def multi_kron(arr):\n",
    "    ans=I(1)\n",
    "    for i in arr:\n",
    "        ans=np.kron(ans,i)\n",
    "    return ans"
   ]
  },
  {
   "cell_type": "markdown",
   "id": "381f95b2",
   "metadata": {},
   "source": [
    "### 1.2.5"
   ]
  },
  {
   "cell_type": "code",
   "execution_count": 6,
   "id": "5c9d0501",
   "metadata": {},
   "outputs": [
    {
     "name": "stdout",
     "output_type": "stream",
     "text": [
      "[[ 0.        ]\n",
      " [ 0.        ]\n",
      " [ 0.70710678]\n",
      " [ 0.        ]\n",
      " [ 0.        ]\n",
      " [-0.70710678]\n",
      " [ 0.        ]\n",
      " [ 0.        ]]\n"
     ]
    }
   ],
   "source": [
    "print(1/np.sqrt(2)*(multi_kron([v0,v1,v0])-multi_kron([v1,v0,v1])))"
   ]
  },
  {
   "cell_type": "markdown",
   "id": "0d9769dd",
   "metadata": {},
   "source": [
    "### 1.3.1"
   ]
  },
  {
   "cell_type": "code",
   "execution_count": 12,
   "id": "474d0a1f",
   "metadata": {},
   "outputs": [
    {
     "name": "stdout",
     "output_type": "stream",
     "text": [
      "0.5403018851213304 0.5403023058681398 -4.2074680939307996e-07\n"
     ]
    }
   ],
   "source": [
    "def number_differential(f,x,delta):\n",
    "    return (f(x+delta)-f(x))/delta\n",
    "\n",
    "# sample\n",
    "print(number_differential(np.sin,1,1e-6),np.cos(1),number_differential(np.sin,1,1e-6)-np.cos(1))"
   ]
  },
  {
   "cell_type": "markdown",
   "id": "9f6172a7",
   "metadata": {},
   "source": [
    "### 1.3.2\n",
    "\n",
    "$$\n",
    "\\begin{align}\n",
    "f'(x)=&A\\cos(x+B)=\\dfrac{A\\sin(x+\\delta+B)-A\\sin(x-\\delta+B)}\\tau\\\\\n",
    "=&\\dfrac{2A\\cos (x+B)\\sin \\delta}\\tau\\Rightarrow\\\\\n",
    "\\tau=&2\\sin\\delta\\\\\n",
    "f'(x)=&\\dfrac{A\\sin(x+\\delta+B)-A\\sin(x-\\delta+B)}{2\\sin\\delta}=\\dfrac{f(x+\\delta)-f(x-\\delta)}{2\\sin\\delta}\\\\\n",
    "\\end{align}\n",
    "$$"
   ]
  },
  {
   "cell_type": "code",
   "execution_count": 15,
   "id": "6c6575cc",
   "metadata": {},
   "outputs": [
    {
     "name": "stdout",
     "output_type": "stream",
     "text": [
      "(-1.3072872417272239, -1.3072872417272239)\n"
     ]
    }
   ],
   "source": [
    "def sin_differential(x,A,B,delta=1):\n",
    "    t=np.sin(delta)*2\n",
    "    return (A*np.cos(x+B),(A*np.sin(x+delta+B)-A*np.sin(x-delta+B))/t)\n",
    "\n",
    "# sample\n",
    "print(sin_differential(1,2,3))"
   ]
  },
  {
   "cell_type": "markdown",
   "id": "10a55a0d",
   "metadata": {},
   "source": [
    "### 1.3.3\n",
    "\n",
    "不难发现，$f=A\\sin(x+B)$，其中$A=\\{0,1\\}$，所以：\n",
    "\n",
    "$$\n",
    "f'(x)=\\dfrac{f(x+1)-f(x-1)}{2\\sin 1}\n",
    "$$"
   ]
  },
  {
   "cell_type": "code",
   "execution_count": 22,
   "id": "5400b051",
   "metadata": {},
   "outputs": [
    {
     "data": {
      "image/png": "[encoded data removed]",
      "text/plain": [
       "<Figure size 432x288 with 1 Axes>"
      ]
     },
     "metadata": {
      "needs_background": "light"
     },
     "output_type": "display_data"
    },
    {
     "data": {
      "image/png": "[encoded data removed]",
      "text/plain": [
       "<Figure size 432x288 with 1 Axes>"
      ]
     },
     "metadata": {
      "needs_background": "light"
     },
     "output_type": "display_data"
    },
    {
     "data": {
      "image/png": "[encoded data removed]",
      "text/plain": [
       "<Figure size 432x288 with 1 Axes>"
      ]
     },
     "metadata": {
      "needs_background": "light"
     },
     "output_type": "display_data"
    }
   ],
   "source": [
    "def f_differential(id1,id2,x):\n",
    "    t=np.sin(1)*2\n",
    "    F=f(id1,id2)\n",
    "    return (F(x+1)-F(x-1))/t\n",
    "\n",
    "def check(id1,id2,x):\n",
    "    F=f(id1,id2)\n",
    "    y=F(x)\n",
    "    dy=f_differential(id1,id2,x)\n",
    "    plt.clf()\n",
    "    draw_function(F,x-np.pi,x+np.pi,100)\n",
    "    draw_line(x-1,y-dy,x+1,y+dy)\n",
    "    plt.show()\n",
    "\n",
    "# sample\n",
    "check(2,1,1)\n",
    "check(2,0,1)\n",
    "check(1,2,0)"
   ]
  }
 ],
 "metadata": {
  "kernelspec": {
   "display_name": "Python 3 (ipykernel)",
   "language": "python",
   "name": "python3"
  },
  "language_info": {
   "codemirror_mode": {
    "name": "ipython",
    "version": 3
   },
   "file_extension": ".py",
   "mimetype": "text/x-python",
   "name": "python",
   "nbconvert_exporter": "python",
   "pygments_lexer": "ipython3",
   "version": "3.8.13"
  }
 },
 "nbformat": 4,
 "nbformat_minor": 5
}
