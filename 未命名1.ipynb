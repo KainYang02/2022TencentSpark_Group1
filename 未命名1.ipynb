{
 "cells": [
  {
   "cell_type": "code",
   "execution_count": 8,
   "id": "6dc5e9ed",
   "metadata": {},
   "outputs": [
    {
     "name": "stderr",
     "output_type": "stream",
     "text": [
      "2022-07-26 10:10:13.843241: W tensorflow/stream_executor/platform/default/dso_loader.cc:64] Could not load dynamic library 'libcuda.so.1'; dlerror: libcuda.so.1: cannot open shared object file: No such file or directory\n",
      "2022-07-26 10:10:13.843274: W tensorflow/stream_executor/cuda/cuda_driver.cc:269] failed call to cuInit: UNKNOWN ERROR (303)\n",
      "2022-07-26 10:10:13.843296: I tensorflow/stream_executor/cuda/cuda_diagnostics.cc:156] kernel driver does not appear to be running on this host (imasonliu-LC12): /proc/driver/nvidia/version does not exist\n",
      "2022-07-26 10:10:13.843625: I tensorflow/core/platform/cpu_feature_guard.cc:193] This TensorFlow binary is optimized with oneAPI Deep Neural Network Library (oneDNN) to use the following CPU instructions in performance-critical operations:  AVX2 FMA\n",
      "To enable them in other operations, rebuild TensorFlow with the appropriate compiler flags.\n"
     ]
    },
    {
     "name": "stdout",
     "output_type": "stream",
     "text": [
      "tf.Tensor(-0.9999995502491636, shape=(), dtype=float64) tf.Tensor((-1.5698479061394408+0j), shape=(), dtype=complex128)\n"
     ]
    }
   ],
   "source": [
    "K=tc.set_backend(\"tensorflow\")\n",
    "tc.set_dtype(\"complex128\")\n",
    "def expectation_of_matrix(a0,a1,theta):\n",
    "    v_0=np.array([[1],[0]])\n",
    "    if a0==0:\n",
    "        P=np.array([[1,0],[0,1]])\n",
    "    elif a0==1:\n",
    "        P=np.array([[0,1],[1,0]])\n",
    "    elif a0==2:\n",
    "        P=np.array([[0,-1j],[1j,0]])\n",
    "    elif a0==3:\n",
    "        P=np.array([[1,0],[0,-1]])\n",
    "    P=tc.array_to_tensor(P)\n",
    "    if a1==0:\n",
    "        Q=np.array([[1,0],[0,1]])\n",
    "    elif a1==1:\n",
    "        Q=np.array([[0,1],[1,0]])\n",
    "    elif a1==2:\n",
    "        Q=np.array([[0,-1j],[1j,0]])\n",
    "    elif a1==3:\n",
    "        Q=np.array([[1,0],[0,-1]])\n",
    "    Q=tc.array_to_tensor(Q)\n",
    "    v_theta=tc.backend.expm(0.5*1j*theta*P)@v_0\n",
    "    intermediate=Q@v_theta\n",
    "    return K.real((K.transpose(K.conj(v_theta))@intermediate)[0][0])\n",
    "\n",
    "def found_min_f(step,x_0,f):\n",
    "    f_min=f(1,2,x_0)\n",
    "    diff=K.grad(f,argnums=2)(1,2,x_0)\n",
    "    while abs(diff)>=1e-3:\n",
    "        f_temp=f(1,2,x_0-step*diff)\n",
    "        if f_temp<f_min:\n",
    "            x_0=x_0-step*diff\n",
    "            f_min=f_temp\n",
    "        else:\n",
    "            step=step/2\n",
    "        diff=K.grad(f,argnums=2)(1,2,x_0)\n",
    "    return f_min,x_0\n",
    "    \n",
    "f_min,x_0=found_min_f(0.1,tc.array_to_tensor(0.25*np.pi),expectation_of_matrix)\n",
    "print(f_min,x_0)"
   ]
  },
  {
   "cell_type": "code",
   "execution_count": null,
   "id": "c6e82415",
   "metadata": {},
   "outputs": [],
   "source": []
  }
 ],
 "metadata": {
  "kernelspec": {
   "display_name": "Python 3 (ipykernel)",
   "language": "python",
   "name": "python3"
  },
  "language_info": {
   "codemirror_mode": {
    "name": "ipython",
    "version": 3
   },
   "file_extension": ".py",
   "mimetype": "text/x-python",
   "name": "python",
   "nbconvert_exporter": "python",
   "pygments_lexer": "ipython3",
   "version": "3.8.13"
  }
 },
 "nbformat": 4,
 "nbformat_minor": 5
}
