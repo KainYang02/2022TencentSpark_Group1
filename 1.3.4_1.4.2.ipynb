{
 "cells": [
  {
   "cell_type": "code",
   "execution_count": 32,
   "id": "344f498c",
   "metadata": {},
   "outputs": [
    {
     "name": "stdout",
     "output_type": "stream",
     "text": [
      "[[-0.99999955+0.j]] [[-1.56984791+0.j]]\n",
      "tf.Tensor(-0.9999995502491636, shape=(), dtype=float64) tf.Tensor((-1.5698479061394408+0j), shape=(), dtype=complex128)\n"
     ]
    }
   ],
   "source": [
    "from matplotlib import pyplot as plt\n",
    "import numpy as np\n",
    "import tensorflow as tf\n",
    "import tensorcircuit as tc\n",
    "from scipy.linalg import expm\n",
    "\n",
    "K=tc.set_backend(\"tensorflow\")\n",
    "\n",
    "def expectation_of_matrix(a0,a1,theta):\n",
    "    v_0=np.array([[1],[0]])\n",
    "    if a0==0:\n",
    "        P=np.array([[1,0],[0,1]])\n",
    "    elif a0==1:\n",
    "        P=np.array([[0,1],[1,0]])\n",
    "    elif a0==2:\n",
    "        P=np.array([[0,-1j],[1j,0]])\n",
    "    elif a0==3:\n",
    "        P=np.array([[1,0],[0,-1]])\n",
    "    if a1==0:\n",
    "        Q=np.array([[1,0],[0,1]])\n",
    "    elif a1==1:\n",
    "        Q=np.array([[0,1],[1,0]])\n",
    "    elif a1==2:\n",
    "        Q=np.array([[0,-1j],[1j,0]])\n",
    "    elif a1==3:\n",
    "        Q=np.array([[1,0],[0,-1]])\n",
    "    v_theta=np.matmul(expm(0.5*1j*theta*P),v_0)\n",
    "    intermediate=np.matmul(Q,v_theta)\n",
    "    return np.matmul(np.transpose(v_theta).conj(),intermediate)\n",
    "\n",
    "def differential_z_1(f,x,y,z):\n",
    "    delta=np.pi/6\n",
    "    diff1=f(x,y,z+delta)-f(x,y,z-delta)\n",
    "    return diff1\n",
    "\n",
    "\n",
    "def found_min_f(step,x_0,f):\n",
    "    f_min=f(1,2,x_0)\n",
    "    diff=differential_z_1(f,1,2,x_0)\n",
    "    while abs(diff)>=0.001:\n",
    "        f_temp=f(1,2,x_0-step*diff)\n",
    "        if f_temp<f_min:\n",
    "            x_0=x_0-step*diff\n",
    "            f_min=f_temp\n",
    "        else:\n",
    "            step=step/2\n",
    "        diff=differential_z_1(f,1,2,x_0)\n",
    "    return f_min,x_0\n",
    "f_min,x_0=found_min_f(0.1,0.25*np.pi,expectation_of_matrix)\n",
    "print(f_min,x_0)\n",
    "\n",
    "tc.set_dtype(\"complex128\")\n",
    "\n",
    "def expectation_of_matrix_1(a0,a1,theta):\n",
    "    v_0=np.array([[1],[0]])\n",
    "    if a0==0:\n",
    "        P=np.array([[1,0],[0,1]])\n",
    "    elif a0==1:\n",
    "        P=np.array([[0,1],[1,0]])\n",
    "    elif a0==2:\n",
    "        P=np.array([[0,-1j],[1j,0]])\n",
    "    elif a0==3:\n",
    "        P=np.array([[1,0],[0,-1]])\n",
    "    P=tc.array_to_tensor(P)\n",
    "    if a1==0:\n",
    "        Q=np.array([[1,0],[0,1]])\n",
    "    elif a1==1:\n",
    "        Q=np.array([[0,1],[1,0]])\n",
    "    elif a1==2:\n",
    "        Q=np.array([[0,-1j],[1j,0]])\n",
    "    elif a1==3:\n",
    "        Q=np.array([[1,0],[0,-1]])\n",
    "    Q=tc.array_to_tensor(Q)\n",
    "    v_theta=tc.backend.expm(0.5*1j*theta*P)@v_0\n",
    "    intermediate=Q@v_theta\n",
    "    return K.real((K.transpose(K.conj(v_theta))@intermediate)[0][0])\n",
    "\n",
    "def found_min_f_1(step,x_0,f):\n",
    "    f_min=f(1,2,x_0)\n",
    "    diff=K.grad(f,argnums=2)(1,2,x_0)\n",
    "    while abs(diff)>=1e-3:\n",
    "        f_temp=f(1,2,x_0-step*diff)\n",
    "        if f_temp<f_min:\n",
    "            x_0=x_0-step*diff\n",
    "            f_min=f_temp\n",
    "        else:\n",
    "            step=step/2\n",
    "        diff=K.grad(f,argnums=2)(1,2,x_0)\n",
    "    return f_min,x_0\n",
    "    \n",
    "f_min,x_0=found_min_f_1(0.1,tc.array_to_tensor(0.25*np.pi),expectation_of_matrix_1)\n",
    "print(f_min,x_0)"
   ]
  },
  {
   "cell_type": "code",
   "execution_count": 33,
   "id": "911a5fb1",
   "metadata": {},
   "outputs": [
    {
     "name": "stdout",
     "output_type": "stream",
     "text": [
      "tf.Tensor([0.70710677+0.j 0.        +0.j 0.        +0.j 0.70710677+0.j], shape=(4,), dtype=complex128)\n",
      "     ┌───┐     \n",
      "q_0: ┤ H ├──■──\n",
      "     └───┘┌─┴─┐\n",
      "q_1: ─────┤ X ├\n",
      "          └───┘\n",
      "tf.Tensor([0.49999998+0.j 0.49999998+0.j 0.49999998+0.j 0.49999998+0.j], shape=(4,), dtype=complex128)\n",
      "     ┌───┐\n",
      "q_0: ┤ H ├\n",
      "     ├───┤\n",
      "q_1: ┤ H ├\n",
      "     └───┘\n",
      "tf.Tensor([0.+0.j 0.+0.j 0.+0.j 0.+0.j 1.+0.j 0.+0.j 0.+0.j 0.+0.j], shape=(8,), dtype=complex128)\n",
      "     ┌────┐   \n",
      "q_0: ┤ U1 ├─X─\n",
      "     ├────┤ │ \n",
      "q_1: ┤ U2 ├─X─\n",
      "     └────┘ │ \n",
      "q_2: ───────■─\n",
      "              \n"
     ]
    }
   ],
   "source": [
    "def n_qbit_circuit1(n):\n",
    "    c=tc.Circuit(n)\n",
    "    c.h(0)\n",
    "    for i in range(1,n):\n",
    "        c.cnot(0,i)\n",
    "    print(c.state())\n",
    "    print(c.draw())\n",
    "def n_qbit_circuit2(n):\n",
    "    c=tc.Circuit(n)\n",
    "    for i in range(n):\n",
    "        c.h(i)\n",
    "    print(c.state())\n",
    "    print(c.draw())\n",
    "n_qbit_circuit1(2)\n",
    "n_qbit_circuit2(2)\n",
    "def given_transpose():\n",
    "    c=tc.Circuit(3)\n",
    "    c.ANY(0,unitary=tc.array_to_tensor([[0,1],[1,0]]),name=\"U1\")\n",
    "    c.ANY(1,unitary=tc.array_to_tensor([[1,0],[0,-1]]),name=\"U2\")\n",
    "    c.cswap(2,0,1)\n",
    "    print(c.state())\n",
    "    print(c.draw())\n",
    "given_transpose()"
   ]
  },
  {
   "cell_type": "code",
   "execution_count": 34,
   "id": "ebec3431",
   "metadata": {},
   "outputs": [
    {
     "data": {
      "image/png": "[encoded data removed]",
      "text/plain": [
       "<Figure size 432x288 with 1 Axes>"
      ]
     },
     "metadata": {
      "needs_background": "light"
     },
     "output_type": "display_data"
    },
    {
     "name": "stdout",
     "output_type": "stream",
     "text": [
      "tf.Tensor(\n",
      "[[-0.35355338 -0.6123724 ]\n",
      " [-0.70710677 -0.70710677]], shape=(2, 2), dtype=float32)\n",
      "tf.Tensor(-0.707106747077096, shape=(), dtype=float64)\n"
     ]
    }
   ],
   "source": [
    "def exp_sumz(n,nlayers,param):\n",
    "    c=tc.Circuit(n)\n",
    "    for j in range(nlayers):\n",
    "        for i in range(n):\n",
    "            c.rx(i,theta=param[i][j])\n",
    "        for i in range(n-1):\n",
    "            c.cnot(i,i+1)\n",
    "    return K.real(K.sum([c.expectation_ps(z=[i]) for i in range(n)]))\n",
    "X=np.arange(0,2*np.pi,0.01)\n",
    "plt.plot(X,[exp_sumz(2,2,[[np.pi/6,np.pi/4],[np.pi/4,x]]) for x in X])\n",
    "plt.show()\n",
    "print(K.grad(exp_sumz, argnums=2)(2,2,K.convert_to_tensor([[np.pi/6,np.pi/4],[np.pi/4,np.pi/4]])))\n",
    "\n",
    "print(exp_sumz(2,2,[[np.pi/6,np.pi/4],[np.pi/4,np.pi/4+np.pi/6]])-\n",
    "      exp_sumz(2,2,[[np.pi/6,np.pi/4],[np.pi/4,np.pi/4-np.pi/6]]))"
   ]
  },
  {
   "cell_type": "code",
   "execution_count": null,
   "id": "147ca7bd",
   "metadata": {},
   "outputs": [],
   "source": []
  }
 ],
 "metadata": {
  "kernelspec": {
   "display_name": "Python 3 (ipykernel)",
   "language": "python",
   "name": "python3"
  },
  "language_info": {
   "codemirror_mode": {
    "name": "ipython",
    "version": 3
   },
   "file_extension": ".py",
   "mimetype": "text/x-python",
   "name": "python",
   "nbconvert_exporter": "python",
   "pygments_lexer": "ipython3",
   "version": "3.8.13"
  }
 },
 "nbformat": 4,
 "nbformat_minor": 5
}
