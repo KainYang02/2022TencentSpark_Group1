{
 "cells": [
  {
   "cell_type": "code",
   "execution_count": 2,
   "id": "c024da7a",
   "metadata": {},
   "outputs": [
    {
     "name": "stdout",
     "output_type": "stream",
     "text": [
      "3\n",
      "[[ 3.  0.  0.  0.  0.  0.  0.  0.]\n",
      " [ 0.  1.  0.  0.  0.  0.  0.  0.]\n",
      " [ 0.  0.  1.  0.  0.  0.  0.  0.]\n",
      " [ 0.  0.  0. -1.  0.  0.  0.  0.]\n",
      " [ 0.  0.  0.  0.  1.  0.  0.  0.]\n",
      " [ 0.  0.  0.  0.  0. -1.  0.  0.]\n",
      " [ 0.  0.  0.  0.  0.  0. -1.  0.]\n",
      " [ 0.  0.  0.  0.  0.  0.  0. -3.]]\n",
      "3.0\n"
     ]
    }
   ],
   "source": [
    "import tensorcircuit as tc\n",
    "import numpy as np\n",
    "from scipy.linalg import expm, sinm, cosm\n",
    "n=int(input())\n",
    "H = np.zeros((2**n, 2**n))\n",
    "for i in range(n):\n",
    "    H += np.kron(np.kron(np.identity(2**i),tc.gates._z_matrix),np.identity(2**(n-i-1)))\n",
    "for i in range(n-1):\n",
    "    H += np.kron(np.kron(np.identity(2**i),tc.gates._x_matrix),np.identity(2**(n-i-1)))*np.kron(np.kron(np.identity(2**(i+1)),tc.gates._x_matrix),np.identity(2**(n-i-2)))\n",
    "print(H)\n",
    "print(H[0,0])"
   ]
  },
  {
   "cell_type": "code",
   "execution_count": null,
   "id": "91f760ec",
   "metadata": {},
   "outputs": [],
   "source": []
  }
 ],
 "metadata": {
  "kernelspec": {
   "display_name": "Python 3 (ipykernel)",
   "language": "python",
   "name": "python3"
  },
  "language_info": {
   "codemirror_mode": {
    "name": "ipython",
    "version": 3
   },
   "file_extension": ".py",
   "mimetype": "text/x-python",
   "name": "python",
   "nbconvert_exporter": "python",
   "pygments_lexer": "ipython3",
   "version": "3.8.13"
  }
 },
 "nbformat": 4,
 "nbformat_minor": 5
}
