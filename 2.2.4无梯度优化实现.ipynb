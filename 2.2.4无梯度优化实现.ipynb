{
 "cells": [
  {
   "cell_type": "code",
   "execution_count": 41,
   "id": "55033a68",
   "metadata": {},
   "outputs": [
    {
     "name": "stdout",
     "output_type": "stream",
     "text": [
      "6 9\n",
      "0 3\n",
      "0 4\n",
      "0 5\n",
      "1 3\n",
      "1 4\n",
      "1 5\n",
      "2 3\n",
      "2 4\n",
      "2 5\n",
      "     fun: -8.333751142024994\n",
      "   maxcv: 0.0\n",
      " message: 'Maximum number of function evaluations has been exceeded.'\n",
      "    nfev: 1000\n",
      "  status: 2\n",
      " success: False\n",
      "       x: array([1.11536476, 0.99908587, 1.50812791, 1.75947456, 0.83206635,\n",
      "       0.84201438, 0.59566464, 1.02965357, 1.50452202, 1.28905257])\n"
     ]
    }
   ],
   "source": [
    "import tensorcircuit as tc\n",
    "import numpy as np\n",
    "import scipy\n",
    "\n",
    "edges = []\n",
    "\n",
    "K=tc.set_backend(\"numpy\")\n",
    "\n",
    "n, m = map(int, input().split())\n",
    "for _ in range(m):\n",
    "    edges.append([int(i) for i in input().split()])\n",
    "\n",
    "p=5\n",
    "    \n",
    "params = [1. for _ in range(2*p)]\n",
    "params=np.transpose(np.array(params))\n",
    "\n",
    "def u_beta(c, beta):\n",
    "    for i in range(n):\n",
    "        c.rx(i, theta = beta)\n",
    "\n",
    "def u_gamma(c, gamma):\n",
    "    for e in edges:\n",
    "        x, y = e\n",
    "        c.rzz(x, y, theta = gamma)\n",
    "        \n",
    "def loss(params):\n",
    "    c = loss_cell(params)\n",
    "    Loss = K.real(0.);\n",
    "    for e in edges:\n",
    "        Loss += K.real(c.expectation_ps(z = [e[0], e[1]]))\n",
    "    return Loss\n",
    "\n",
    "def loss_cell(params):\n",
    "    c = tc.Circuit(n);\n",
    "    for i in range(n):\n",
    "        c.h(i)\n",
    "    for i in range(p):\n",
    "        u_gamma(c,params[i])\n",
    "        u_beta(c,params[i+p])\n",
    "    return c\n",
    "\n",
    "print(scipy.optimize.minimize(loss,params, method=\"COBYLA\"))\n"
   ]
  },
  {
   "cell_type": "code",
   "execution_count": null,
   "id": "321e45b7",
   "metadata": {},
   "outputs": [],
   "source": []
  },
  {
   "cell_type": "code",
   "execution_count": null,
   "id": "8f51d22d",
   "metadata": {},
   "outputs": [],
   "source": []
  }
 ],
 "metadata": {
  "kernelspec": {
   "display_name": "Python 3 (ipykernel)",
   "language": "python",
   "name": "python3"
  },
  "language_info": {
   "codemirror_mode": {
    "name": "ipython",
    "version": 3
   },
   "file_extension": ".py",
   "mimetype": "text/x-python",
   "name": "python",
   "nbconvert_exporter": "python",
   "pygments_lexer": "ipython3",
   "version": "3.8.13"
  }
 },
 "nbformat": 4,
 "nbformat_minor": 5
}
