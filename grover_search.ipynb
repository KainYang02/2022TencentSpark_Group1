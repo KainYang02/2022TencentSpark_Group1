{
 "cells": [
  {
   "cell_type": "code",
   "execution_count": 46,
   "id": "18d089aa",
   "metadata": {},
   "outputs": [],
   "source": [
    "import tensorcircuit as tc\n",
    "import numpy as np"
   ]
  },
  {
   "cell_type": "markdown",
   "id": "21e06973",
   "metadata": {},
   "source": [
    "### oracle门接口\n",
    "需要实现`oracle(c,Measure)`，其中`c`为待接入的量子电路，`Measure`为`False`时为将满足条件的状态取反，为`True`时为找到满足条件的概率。"
   ]
  },
  {
   "cell_type": "code",
   "execution_count": 47,
   "id": "a3bd1403",
   "metadata": {},
   "outputs": [],
   "source": [
    "def oracle1(c,Measure):\n",
    "    for i in range(1,6): c.CNOT(0,i)\n",
    "    c.multicontrol(2,3,4,5,6,ctrl=[0,1,0,1],unitary=tc.gates.x())\n",
    "    if Measure: return c.measure(6, with_prob = True)[0][0]\n",
    "    c.z(6)\n",
    "    c.multicontrol(2,3,4,5,6,ctrl=[0,1,0,1],unitary=tc.gates.x())\n",
    "    for i in range(1,6): c.CNOT(0,i)"
   ]
  },
  {
   "cell_type": "code",
   "execution_count": 3,
   "id": "a85ad5a7",
   "metadata": {},
   "outputs": [],
   "source": [
    "def reflection(n,c):\n",
    "    for i in range(n):\n",
    "        c.H(i)\n",
    "        c.X(i)\n",
    "    c.multicontrol(*range(n), unitary=tc.gates.z(), ctrl=[1 for _ in range(n - 1)])\n",
    "    for i in range(n):\n",
    "        c.X(i)\n",
    "        c.H(i)\n",
    "    return c"
   ]
  },
  {
   "cell_type": "markdown",
   "id": "59f53bbd",
   "metadata": {},
   "source": [
    "### 支持解的个数未知的grover搜索\n",
    "\n",
    "如果有$t$个答案，一共有$N=2^n$种可能的状态。\n",
    "\n",
    "则令$\\theta=\\arcsin(\\sqrt{\\dfrac TN})$，进行$k$次oracle&reflection操作，其中$k$在$[0,m)$中随机选择，正确率为：\n",
    "\n",
    "$$\n",
    "\\begin{align}\n",
    "P(m)=&\\dfrac1m\\sum_{k=0}^{m-1}\\sin^2 (2k+1)\\theta\\\\\n",
    "=&\\dfrac1{2m}\\sum_{k=0}^{m-1}1-\\cos(4k+2)\\theta\\\\\n",
    "=&\\dfrac 12-\\dfrac1{2m}\\dfrac{\\sin(4m\\theta)}{2\\sin(2\\theta)}\n",
    "\\end{align}\n",
    "$$\n",
    "\n",
    "则$m\\ge \\sin(2\\theta)^{-1}\\Rightarrow P(m)>\\dfrac 14$。\n",
    "\n",
    "取$m=\\sqrt N$即可在$O(\\sqrt N)$的时间复杂度内求解。\n",
    "\n",
    "按以下步骤可以做到$O(\\sqrt{\\dfrac Nt})$：\n",
    "\n",
    "1. 令$m=1,\\lambda\\in(1,\\dfrac 43)$。\n",
    "2. 执行上述步骤，如果是解，则返回。\n",
    "3. 令$m\\leftarrow \\min(\\sqrt N,\\lambda m)$，重复执行2.\n",
    "\n",
    "证明：\n",
    "\n",
    "1. $m<\\sqrt{\\dfrac Nt}$时，则执行时间为$O(\\sqrt{\\dfrac Nt})\\sum_{i\\ge 0}\\lambda^{-i}=O(\\sqrt{\\dfrac Nt})$\n",
    "2. $m\\ge\\sqrt{\\dfrac Nt}$时，执行时间为$\\sum_{i\\ge 0}\\lambda^i(\\dfrac 43)^{-i}\\sqrt{\\dfrac Nt}=O(\\sqrt{\\dfrac Nt})$"
   ]
  },
  {
   "cell_type": "code",
   "execution_count": 48,
   "id": "ed4db341",
   "metadata": {},
   "outputs": [
    {
     "name": "stdout",
     "output_type": "stream",
     "text": [
      "[0. 0. 0. 1. 0. 1.]\n",
      "1\n"
     ]
    }
   ],
   "source": [
    "from random import randint\n",
    "def grover(n,m,oracle):\n",
    "    def grover_unit(n,m,oracle,iterations):\n",
    "        c=tc.Circuit(n+m)\n",
    "        for i in range(n):\n",
    "            c.H(i)\n",
    "        for i in range(iterations):\n",
    "            oracle(c,False)\n",
    "            reflection(n,c)\n",
    "        return c.measure(*range(n), with_prob = True)\n",
    "    \n",
    "    mx,mul,run_time=1,1.2,0\n",
    "    while True:\n",
    "        run_time+=1\n",
    "        q=grover_unit(n,m,oracle,randint(0,int(mx)))[0]\n",
    "#        q=grover_unit(n,m,oracle,int(2**(n/2)*np.pi/4))[0]\n",
    "        c=tc.Circuit(n+m)\n",
    "        for i in range(n):\n",
    "            if(q[i]>0.5): c.X(i)\n",
    "        if(oracle(c,True)>0.5):\n",
    "            print(q)\n",
    "            print(run_time)\n",
    "            return\n",
    "        mx=min(mx*mul,2**(n/2))\n",
    "        \n",
    "        \n",
    "grover(6,1,oracle1)"
   ]
  }
 ],
 "metadata": {
  "kernelspec": {
   "display_name": "Python 3 (ipykernel)",
   "language": "python",
   "name": "python3"
  },
  "language_info": {
   "codemirror_mode": {
    "name": "ipython",
    "version": 3
   },
   "file_extension": ".py",
   "mimetype": "text/x-python",
   "name": "python",
   "nbconvert_exporter": "python",
   "pygments_lexer": "ipython3",
   "version": "3.8.13"
  }
 },
 "nbformat": 4,
 "nbformat_minor": 5
}
