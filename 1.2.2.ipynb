{
 "cells": [
  {
   "cell_type": "code",
   "execution_count": 5,
   "id": "1a74d29e",
   "metadata": {},
   "outputs": [
    {
     "name": "stdout",
     "output_type": "stream",
     "text": [
      "[[0.54030231+0.j         0.        +0.84147098j]\n",
      " [0.        +0.84147098j 0.54030231+0.j        ]]\n",
      "[[ 0.54030231+0.j  0.84147098+0.j]\n",
      " [-0.84147098+0.j  0.54030231+0.j]]\n",
      "[[0.54030231+0.84147098j 0.        +0.j        ]\n",
      " [0.        +0.j         0.54030231-0.84147098j]]\n"
     ]
    }
   ],
   "source": [
    "import tensorcircuit as tc\n",
    "import numpy as np\n",
    "from scipy.linalg import expm, sinm, cosm\n",
    "print(expm(1.j*tc.gates._x_matrix))\n",
    "print(expm(1.j*tc.gates._y_matrix))\n",
    "print(expm(1.j*tc.gates._z_matrix))"
   ]
  },
  {
   "cell_type": "code",
   "execution_count": 6,
   "id": "49230110",
   "metadata": {},
   "outputs": [],
   "source": [
    "def test(theta):\n",
    "    print(np.allclose(expm(theta*1.j*tc.gates._x_matrix),np.cos(theta)*np.array([[1,0],[0,1]])+1.j*np.sin(theta)*tc.gates._x_matrix, atol=0.0001))"
   ]
  },
  {
   "cell_type": "code",
   "execution_count": 7,
   "id": "f5d81d93",
   "metadata": {},
   "outputs": [
    {
     "name": "stdout",
     "output_type": "stream",
     "text": [
      "True\n"
     ]
    }
   ],
   "source": [
    "test(1)"
   ]
  },
  {
   "cell_type": "markdown",
   "id": "feb28718",
   "metadata": {},
   "source": [
    "注意到任意一个泡利矩阵 $\\hat{P}$ 都有性质 $P^2=\\bar{P}^T=I$ \n",
    "对 $e^{i\\theta/2\\hat{P}}v_0$ ，我们将它泰勒展开，只会有 $I,iP$ 两项，系数分别是 $\\cos(\\theta)$ 和$\\sin(\\theta)$ 的泰勒展开，得证。"
   ]
  },
  {
   "cell_type": "markdown",
   "id": "e8fb7d48",
   "metadata": {},
   "source": [
    "若矩阵欧拉公式 $e^{i\\theta P}=\\cos(\\theta)I+i\\sin(\\theta)P$ 对任意 $\\theta$ 成立，我们取 $-\\theta$ 可以得到$e^{-i\\theta P}=\\cos(\\theta)I-\\sin(\\theta)P$"
   ]
  },
  {
   "cell_type": "markdown",
   "id": "b34ba942",
   "metadata": {},
   "source": [
    "故 $I=e^{i\\theta P}\\times e^{-i\\theta P}=\\cos^2(\\theta)I^2-i^2\\sin^2(\\theta)P^2=\\cos^2(\\theta)I+\\sin^2(\\theta)P^2$"
   ]
  },
  {
   "cell_type": "markdown",
   "id": "f9910061",
   "metadata": {},
   "source": [
    "比较各元素可知 $P^2=I$ ，由上述证明易知这样的 $P$ 满足公式。"
   ]
  },
  {
   "cell_type": "markdown",
   "id": "50a04220",
   "metadata": {},
   "source": [
    "故 $P$ 满足该公式当且仅当 $P^2=I$ "
   ]
  },
  {
   "cell_type": "code",
   "execution_count": null,
   "id": "8125affd",
   "metadata": {},
   "outputs": [],
   "source": []
  }
 ],
 "metadata": {
  "kernelspec": {
   "display_name": "Python 3 (ipykernel)",
   "language": "python",
   "name": "python3"
  },
  "language_info": {
   "codemirror_mode": {
    "name": "ipython",
    "version": 3
   },
   "file_extension": ".py",
   "mimetype": "text/x-python",
   "name": "python",
   "nbconvert_exporter": "python",
   "pygments_lexer": "ipython3",
   "version": "3.8.13"
  }
 },
 "nbformat": 4,
 "nbformat_minor": 5
}
