{
 "cells": [
  {
   "cell_type": "code",
   "execution_count": 1,
   "id": "18d089aa",
   "metadata": {},
   "outputs": [
    {
     "name": "stderr",
     "output_type": "stream",
     "text": [
      "2022-07-26 12:10:50.090052: W tensorflow/stream_executor/platform/default/dso_loader.cc:64] Could not load dynamic library 'libcudart.so.11.0'; dlerror: libcudart.so.11.0: cannot open shared object file: No such file or directory\n",
      "2022-07-26 12:10:50.090070: I tensorflow/stream_executor/cuda/cudart_stub.cc:29] Ignore above cudart dlerror if you do not have a GPU set up on your machine.\n"
     ]
    }
   ],
   "source": [
    "import tensorcircuit as tc\n",
    "import numpy as np"
   ]
  },
  {
   "cell_type": "code",
   "execution_count": 2,
   "id": "a3bd1403",
   "metadata": {},
   "outputs": [],
   "source": [
    "def oracle1(c):\n",
    "#    print(c.state())\n",
    "    for i in range(1,6): c.CNOT(0,i)\n",
    "    c.multicontrol(1,2,3,4,5,6,ctrl=[1,0,1,0,1],unitary=tc.gates.x())\n",
    "    c.z(6)\n",
    "    c.multicontrol(1,2,3,4,5,6,ctrl=[1,0,1,0,1],unitary=tc.gates.x())\n",
    "    for i in range(1,6): c.CNOT(0,i)\n",
    "#    print(c.state())"
   ]
  },
  {
   "cell_type": "code",
   "execution_count": 3,
   "id": "8b4f2b24",
   "metadata": {},
   "outputs": [],
   "source": [
    "def reflection(n,c):\n",
    "    for i in range(n):\n",
    "        c.H(i)\n",
    "        c.X(i)\n",
    "    c.multicontrol(*range(n), unitary=tc.gates.z(), ctrl=[1 for _ in range(n - 1)])\n",
    "    for i in range(n):\n",
    "        c.X(i)\n",
    "        c.H(i)\n",
    "    return c"
   ]
  },
  {
   "cell_type": "code",
   "execution_count": 6,
   "id": "436e25ac",
   "metadata": {},
   "outputs": [
    {
     "name": "stdout",
     "output_type": "stream",
     "text": [
      "(array([0., 1., 0., 1., 0., 1.], dtype=float32), 0.4484671558979498)\n",
      "(array([1., 0., 1., 0., 1., 0.], dtype=float32), 0.44846716421562816)\n",
      "(array([1., 0., 1., 0., 1., 0.], dtype=float32), 0.4484671829639982)\n",
      "(array([0., 1., 0., 1., 0., 1.], dtype=float32), 0.448467138960721)\n",
      "(array([1., 0., 1., 0., 1., 0.], dtype=float32), 0.448467089810496)\n"
     ]
    }
   ],
   "source": [
    "def grover(n,m,oracle,solution_amount):\n",
    "    def grover_unit(n,m,oracle):\n",
    "        c=tc.Circuit(n+m)\n",
    "        for i in range(n):\n",
    "            c.H(i)\n",
    "        theta=np.arcsin(np.sqrt(solution_amount/2**n))*2\n",
    "        phi=theta/2\n",
    "        while phi+theta<np.pi/2:\n",
    "            phi+=theta\n",
    "            oracle(c)\n",
    "            reflection(n,c)\n",
    "        return c.measure(*range(n), with_prob = True)\n",
    "    for i in range(5):\n",
    "        print(grover_unit(n,m,oracle))\n",
    "        \n",
    "grover(6,1,oracle1,2)"
   ]
  }
 ],
 "metadata": {
  "kernelspec": {
   "display_name": "Python 3 (ipykernel)",
   "language": "python",
   "name": "python3"
  },
  "language_info": {
   "codemirror_mode": {
    "name": "ipython",
    "version": 3
   },
   "file_extension": ".py",
   "mimetype": "text/x-python",
   "name": "python",
   "nbconvert_exporter": "python",
   "pygments_lexer": "ipython3",
   "version": "3.8.13"
  }
 },
 "nbformat": 4,
 "nbformat_minor": 5
}
