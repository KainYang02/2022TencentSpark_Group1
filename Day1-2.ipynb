{
 "cells": [
  {
   "cell_type": "code",
   "execution_count": 1,
   "id": "e8f9dfec",
   "metadata": {},
   "outputs": [
    {
     "name": "stderr",
     "output_type": "stream",
     "text": [
      "2022-07-27 12:43:15.195087: W tensorflow/stream_executor/platform/default/dso_loader.cc:64] Could not load dynamic library 'libcudart.so.11.0'; dlerror: libcudart.so.11.0: cannot open shared object file: No such file or directory\n",
      "2022-07-27 12:43:15.195105: I tensorflow/stream_executor/cuda/cudart_stub.cc:29] Ignore above cudart dlerror if you do not have a GPU set up on your machine.\n"
     ]
    }
   ],
   "source": [
    "import tensorcircuit as tc\n",
    "import numpy as np\n",
    "import scipy\n",
    "import tensorflow as tf\n",
    "from matplotlib import pyplot as plt\n",
    "from scipy.linalg import expm, sinm, cosm\n",
    "K=tc.set_backend(\"tensorflow\")"
   ]
  },
  {
   "cell_type": "code",
   "execution_count": 2,
   "id": "e0972190",
   "metadata": {},
   "outputs": [],
   "source": [
    "def I(n):\n",
    "    return np.array([1 if i%(n+1)==0 else 0 for i in range(n*n)]).reshape(n,n)\n",
    "def ZERO(n):\n",
    "    return np.array([0 for i in range(n*n)]).reshape(n,n)\n",
    "def _exp(mat,t):\n",
    "    return np.cos(t)*I(mat.shape[0])+1j*np.sin(t)*mat;\n",
    "def conj_tr(v):\n",
    "    return np.conj(v.transpose())\n",
    "def expect(mat,v):\n",
    "    return np.matmul(np.matmul(conj_tr(v),mat),v)[0][0]\n",
    "\n",
    "tx=np.array([[0,1],[1,0]])\n",
    "ty=np.array([[0,-1j],[1j,0]])\n",
    "tz=np.array([[1.,0],[0,-1.]])\n",
    "v0=np.array([[1],[0]])\n",
    "v1=np.array([[0],[1]])"
   ]
  },
  {
   "cell_type": "markdown",
   "id": "e42fd92f",
   "metadata": {},
   "source": [
    "## 1.2 向量和矩阵"
   ]
  },
  {
   "cell_type": "markdown",
   "id": "cc9aab8c",
   "metadata": {},
   "source": [
    "### 1.2.1 矩阵旋转"
   ]
  },
  {
   "cell_type": "code",
   "execution_count": 3,
   "id": "25011db1",
   "metadata": {},
   "outputs": [
    {
     "name": "stdout",
     "output_type": "stream",
     "text": [
      "give a degree theta\n",
      "2\n"
     ]
    },
    {
     "data": {
      "image/png": "[encoded data removed]",
      "text/plain": [
       "<Figure size 432x288 with 1 Axes>"
      ]
     },
     "metadata": {
      "needs_background": "light"
     },
     "output_type": "display_data"
    }
   ],
   "source": [
    "print('give a degree theta')\n",
    "theta=float(input())\n",
    "def R(x):\n",
    "    return np.array([[np.cos(x),np.sin(x)],[-np.sin(x),np.cos(x)]])\n",
    "\n",
    "def draw_circle(avg=\"\"):\n",
    "    x_arr,y_arr=[],[]\n",
    "    for i in range(101):\n",
    "        t=np.pi/50*i;\n",
    "        x_arr.append(np.cos(t))\n",
    "        y_arr.append(np.sin(t))\n",
    "    plt.plot(x_arr,y_arr,avg)\n",
    "\n",
    "def draw_line(ax,ay,bx,by,avg=\"\"):\n",
    "    x_arr,y_arr=[ax,bx],[ay,by]\n",
    "    plt.plot(x_arr,y_arr,avg)\n",
    "\n",
    "v=np.array([[1],[0]])\n",
    "u=np.matmul(R(theta),v)\n",
    "\n",
    "plt.clf()\n",
    "draw_circle('k-')\n",
    "draw_line(0,0,1,0,'b')\n",
    "draw_line(0,0,u[0][0],u[1][0],'b-.')\n",
    "plt.show()"
   ]
  },
  {
   "cell_type": "markdown",
   "id": "cf2afb8d",
   "metadata": {},
   "source": [
    "### 1.2.2 矩阵指数"
   ]
  },
  {
   "cell_type": "code",
   "execution_count": 4,
   "id": "a796686e",
   "metadata": {},
   "outputs": [
    {
     "name": "stdout",
     "output_type": "stream",
     "text": [
      "[[0.54030231+0.j         0.        +0.84147098j]\n",
      " [0.        +0.84147098j 0.54030231+0.j        ]]\n",
      "[[ 0.54030231+0.j  0.84147098+0.j]\n",
      " [-0.84147098+0.j  0.54030231+0.j]]\n",
      "[[0.54030231+0.84147098j 0.        +0.j        ]\n",
      " [0.        +0.j         0.54030231-0.84147098j]]\n"
     ]
    }
   ],
   "source": [
    "print(expm(1.j*tx))\n",
    "print(expm(1.j*ty))\n",
    "print(expm(1.j*tz))"
   ]
  },
  {
   "cell_type": "code",
   "execution_count": 5,
   "id": "53e05995",
   "metadata": {},
   "outputs": [],
   "source": [
    "def test(theta):\n",
    "    print(np.allclose(expm(theta*1.j*tx),_exp(tx,theta), atol=0.0001))"
   ]
  },
  {
   "cell_type": "code",
   "execution_count": 6,
   "id": "1fec6b7b",
   "metadata": {},
   "outputs": [
    {
     "name": "stdout",
     "output_type": "stream",
     "text": [
      "True\n"
     ]
    }
   ],
   "source": [
    "test(1)"
   ]
  },
  {
   "cell_type": "markdown",
   "id": "66717ea9",
   "metadata": {},
   "source": [
    "注意到任意一个泡利矩阵 $\\hat{P}$ 都有性质 $P^2=\\bar{P}^T=I$ 。\n",
    "对 $e^{i\\theta\\hat{P}}$ ，我们将它泰勒展开，只会有 $I,iP$ 两项，系数分别是 $\\cos(\\theta)$ 和$\\sin(\\theta)$ 的泰勒展开，得证。"
   ]
  },
  {
   "cell_type": "markdown",
   "id": "a26b94b7",
   "metadata": {},
   "source": [
    "若矩阵欧拉公式 $e^{i\\theta P}=\\cos(\\theta)I+i\\sin(\\theta)P$ 对任意 $\\theta$ 成立，我们取 $-\\theta$ 可以得到$e^{-i\\theta P}=\\cos(\\theta)I-i\\sin(\\theta)P$"
   ]
  },
  {
   "cell_type": "markdown",
   "id": "18c87a35",
   "metadata": {},
   "source": [
    "故 $I=e^{i\\theta P}\\times e^{-i\\theta P}=\\cos^2(\\theta)I^2-i^2\\sin^2(\\theta)P^2=\\cos^2(\\theta)I+\\sin^2(\\theta)P^2$"
   ]
  },
  {
   "cell_type": "markdown",
   "id": "932ebbff",
   "metadata": {},
   "source": [
    "比较各元素可知 $P^2=I$ ，由上述证明易知这样的 $P$ 满足公式。"
   ]
  },
  {
   "cell_type": "markdown",
   "id": "268cdd35",
   "metadata": {},
   "source": [
    "故 $P$ 满足该公式当且仅当 $P^2=I$ "
   ]
  },
  {
   "cell_type": "markdown",
   "id": "623ce789",
   "metadata": {},
   "source": [
    "### 1.2.3 矩阵关于向量的期望"
   ]
  },
  {
   "cell_type": "code",
   "execution_count": 7,
   "id": "f24d0fae",
   "metadata": {},
   "outputs": [],
   "source": [
    "Pauli=[np.array([[1,0],[0,1]]),tc.gates._x_matrix,tc.gates._y_matrix,tc.gates._z_matrix]\n",
    "def expectation(p,q,theta):\n",
    "    P=Pauli[p]\n",
    "    Q=Pauli[q]\n",
    "    v=expm(1.j*theta/2*P)*np.matrix([1,0]).transpose()\n",
    "    return (v.conj().transpose()@Q@v)[0,0]"
   ]
  },
  {
   "cell_type": "code",
   "execution_count": 8,
   "id": "2bc8bd53",
   "metadata": {},
   "outputs": [
    {
     "data": {
      "text/plain": [
       "(-0.9899924966004452+0j)"
      ]
     },
     "execution_count": 8,
     "metadata": {},
     "output_type": "execute_result"
    }
   ],
   "source": [
    "expectation(2,3,3)"
   ]
  },
  {
   "cell_type": "code",
   "execution_count": 9,
   "id": "4e5cc65f",
   "metadata": {},
   "outputs": [
    {
     "name": "stderr",
     "output_type": "stream",
     "text": [
      "/home/tencent_go/anaconda3/envs/tc/lib/python3.8/site-packages/matplotlib/cbook/__init__.py:1298: ComplexWarning: Casting complex values to real discards the imaginary part\n",
      "  return np.asarray(x, float)\n"
     ]
    },
    {
     "data": {
      "image/png": "[encoded data removed]",
      "text/plain": [
       "<Figure size 432x288 with 1 Axes>"
      ]
     },
     "metadata": {
      "needs_background": "light"
     },
     "output_type": "display_data"
    }
   ],
   "source": [
    "plt.clf()\n",
    "x = np.arange(0, 2 * np.pi, 0.01)\n",
    "plt.plot(x, [expectation(1,3, t) for t in x])\n",
    "plt.show()"
   ]
  },
  {
   "cell_type": "markdown",
   "id": "5a2fc1e4",
   "metadata": {},
   "source": [
    "### 1.2.4 张量积"
   ]
  },
  {
   "cell_type": "code",
   "execution_count": 10,
   "id": "c0d5c1fe",
   "metadata": {},
   "outputs": [
    {
     "name": "stdout",
     "output_type": "stream",
     "text": [
      "3\n",
      "[[ 3.  0.  0.  0.  0.  0.  0.  0.]\n",
      " [ 0.  1.  0.  0.  0.  0.  0.  0.]\n",
      " [ 0.  0.  1.  0.  0.  0.  0.  0.]\n",
      " [ 0.  0.  0. -1.  0.  0.  0.  0.]\n",
      " [ 0.  0.  0.  0.  1.  0.  0.  0.]\n",
      " [ 0.  0.  0.  0.  0. -1.  0.  0.]\n",
      " [ 0.  0.  0.  0.  0.  0. -1.  0.]\n",
      " [ 0.  0.  0.  0.  0.  0.  0. -3.]]\n",
      "3.0\n"
     ]
    }
   ],
   "source": [
    "n=int(input())\n",
    "H = np.zeros((2**n, 2**n))\n",
    "for i in range(n):\n",
    "    H += np.kron(np.kron(I(2**i),tz),I(2**(n-i-1)))\n",
    "for i in range(n-1):\n",
    "    H += np.kron(np.kron(I(2**i),tx),I(2**(n-i-1)))*np.kron(np.kron(I(2**(i+1)),tx),I(2**(n-i-2)))\n",
    "print(H)\n",
    "print(H[0,0])"
   ]
  },
  {
   "cell_type": "markdown",
   "id": "77e1509d",
   "metadata": {},
   "source": [
    "### 1.2.5 狄拉克符号"
   ]
  },
  {
   "cell_type": "code",
   "execution_count": 11,
   "id": "324a015e",
   "metadata": {},
   "outputs": [
    {
     "name": "stdout",
     "output_type": "stream",
     "text": [
      "[[ 0.        ]\n",
      " [ 0.        ]\n",
      " [ 0.70710678]\n",
      " [ 0.        ]\n",
      " [ 0.        ]\n",
      " [-0.70710678]\n",
      " [ 0.        ]\n",
      " [ 0.        ]]\n"
     ]
    }
   ],
   "source": [
    "def multi_kron(arr):\n",
    "    ans=I(1)\n",
    "    for i in arr:\n",
    "        ans=np.kron(ans,i)\n",
    "    return ans\n",
    "print(1/np.sqrt(2)*(multi_kron([v0,v1,v0])-multi_kron([v1,v0,v1])))"
   ]
  },
  {
   "cell_type": "markdown",
   "id": "6e3f91a7",
   "metadata": {},
   "source": [
    "## 1.3 导数与梯度下降"
   ]
  },
  {
   "cell_type": "markdown",
   "id": "5f40992d",
   "metadata": {},
   "source": [
    "### 1.3.1 数值微分"
   ]
  },
  {
   "cell_type": "code",
   "execution_count": 12,
   "id": "96254390",
   "metadata": {},
   "outputs": [
    {
     "name": "stdout",
     "output_type": "stream",
     "text": [
      "0.5403018851213304 0.5403023058681398 -4.2074680939307996e-07\n"
     ]
    }
   ],
   "source": [
    "def number_differential(f,x,delta):\n",
    "    return (f(x+delta)-f(x))/delta\n",
    "\n",
    "# sample\n",
    "print(number_differential(np.sin,1,1e-6),np.cos(1),number_differential(np.sin,1,1e-6)-np.cos(1))"
   ]
  },
  {
   "cell_type": "markdown",
   "id": "12a53770",
   "metadata": {},
   "source": [
    "### 1.3.2 三角函数数值微分"
   ]
  },
  {
   "cell_type": "markdown",
   "id": "1e574d3a",
   "metadata": {},
   "source": [
    "$$\n",
    "\\begin{align}\n",
    "f'(x)=&A\\cos(x+B)=\\dfrac{A\\sin(x+\\delta+B)-A\\sin(x-\\delta+B)}\\tau\\\\\n",
    "=&\\dfrac{2A\\cos (x+B)\\sin \\delta}\\tau\\Rightarrow\\\\\n",
    "\\tau=&2\\sin\\delta\\\\\n",
    "f'(x)=&\\dfrac{A\\sin(x+\\delta+B)-A\\sin(x-\\delta+B)}{2\\sin\\delta}=\\dfrac{f(x+\\delta)-f(x-\\delta)}{2\\sin\\delta}\\\\\n",
    "\\end{align}\n",
    "$$"
   ]
  },
  {
   "cell_type": "code",
   "execution_count": 13,
   "id": "278eace7",
   "metadata": {},
   "outputs": [
    {
     "name": "stdout",
     "output_type": "stream",
     "text": [
      "(-1.3072872417272239, -1.3072872417272239)\n"
     ]
    }
   ],
   "source": [
    "def sin_differential(x,A,B,delta=1):\n",
    "    t=np.sin(delta)*2\n",
    "    return (A*np.cos(x+B),(A*np.sin(x+delta+B)-A*np.sin(x-delta+B))/t)\n",
    "\n",
    "# sample\n",
    "print(sin_differential(1,2,3))"
   ]
  },
  {
   "cell_type": "markdown",
   "id": "13f95061",
   "metadata": {},
   "source": [
    "### 1.3.3 单比特参数平移"
   ]
  },
  {
   "cell_type": "markdown",
   "id": "8e5a7faf",
   "metadata": {},
   "source": [
    "不难发现，$f=A\\sin(x+B)$，其中$A=\\{0,1\\}$，所以：\n",
    "\n",
    "$$\n",
    "f'(x)=\\dfrac{f(x+1)-f(x-1)}{2\\sin 1}\n",
    "$$"
   ]
  },
  {
   "cell_type": "code",
   "execution_count": 14,
   "id": "98c484bf",
   "metadata": {},
   "outputs": [
    {
     "data": {
      "image/png": "[encoded data removed]",
      "text/plain": [
       "<Figure size 432x288 with 1 Axes>"
      ]
     },
     "metadata": {
      "needs_background": "light"
     },
     "output_type": "display_data"
    },
    {
     "data": {
      "image/png": "[encoded data removed]",
      "text/plain": [
       "<Figure size 432x288 with 1 Axes>"
      ]
     },
     "metadata": {
      "needs_background": "light"
     },
     "output_type": "display_data"
    },
    {
     "data": {
      "image/png": "[encoded data removed]",
      "text/plain": [
       "<Figure size 432x288 with 1 Axes>"
      ]
     },
     "metadata": {
      "needs_background": "light"
     },
     "output_type": "display_data"
    }
   ],
   "source": [
    "def f(id1,id2):\n",
    "    Mat=[I(2),tx,ty,tz]\n",
    "    class test_1_helper:\n",
    "        def __init__(self,p,q):\n",
    "            self.P=p\n",
    "            self.Q=q\n",
    "        def __call__(self,t):\n",
    "            vt=np.matmul(_exp(self.P,t/2),v0)\n",
    "            return expect(self.Q,vt).real\n",
    "    return test_1_helper(Mat[id1],Mat[id2])\n",
    "\n",
    "def draw_function(f,s,t,point_num,avg=\"\"):\n",
    "    x_arr,y_arr=[],[]\n",
    "    for i in range(point_num+1):\n",
    "        v=s+(t-s)*1./point_num*i;\n",
    "        x_arr.append(v)\n",
    "        y_arr.append(f(v))\n",
    "    plt.plot(x_arr,y_arr)\n",
    "\n",
    "def f_differential(id1,id2,x):\n",
    "    t=np.sin(1)*2\n",
    "    F=f(id1,id2)\n",
    "    return (F(x+1)-F(x-1))/t\n",
    "\n",
    "def check(id1,id2,x):\n",
    "    F=f(id1,id2)\n",
    "    y=F(x)\n",
    "    dy=f_differential(id1,id2,x)\n",
    "    plt.clf()\n",
    "    draw_function(F,x-np.pi,x+np.pi,100)\n",
    "    draw_line(x-1,y-dy,x+1,y+dy)\n",
    "    plt.show()\n",
    "\n",
    "# sample\n",
    "check(2,1,1)\n",
    "check(2,0,1)\n",
    "check(1,2,0)"
   ]
  },
  {
   "cell_type": "markdown",
   "id": "6031e73d",
   "metadata": {},
   "source": [
    "### 1.3.4 梯度下降"
   ]
  },
  {
   "cell_type": "code",
   "execution_count": 15,
   "id": "7a14f010",
   "metadata": {},
   "outputs": [
    {
     "name": "stdout",
     "output_type": "stream",
     "text": [
      "[[-0.99999955+0.j]] [[-1.56984791+0.j]]\n"
     ]
    }
   ],
   "source": [
    "def expectation_of_matrix(a0,a1,theta):\n",
    "    P=Pauli[a0]\n",
    "    Q=Pauli[a1]\n",
    "    v_theta=np.matmul(expm(0.5*1j*theta*P),v0)\n",
    "    intermediate=np.matmul(Q,v_theta)\n",
    "    return np.matmul(np.transpose(v_theta).conj(),intermediate)\n",
    "\n",
    "def differential_z_1(f,x,y,z):\n",
    "    delta=np.pi/6\n",
    "    diff1=f(x,y,z+delta)-f(x,y,z-delta)\n",
    "    return diff1\n",
    "\n",
    "\n",
    "def found_min_f(step,x_0,g):\n",
    "    f_min=g(1,2,x_0)\n",
    "    diff=differential_z_1(g,1,2,x_0)\n",
    "    while abs(diff)>=0.001:\n",
    "        f_temp=g(1,2,x_0-step*diff)\n",
    "        if f_temp<f_min:\n",
    "            x_0=x_0-step*diff\n",
    "            f_min=f_temp\n",
    "        else:\n",
    "            step=step/2\n",
    "        diff=differential_z_1(g,1,2,x_0)\n",
    "    return f_min,x_0\n",
    "\n",
    "f_min,x_0=found_min_f(0.1,0.25*np.pi,expectation_of_matrix)\n",
    "print(f_min,x_0)"
   ]
  },
  {
   "cell_type": "markdown",
   "id": "64a6263a",
   "metadata": {},
   "source": [
    "### 1.3.5 回到线路"
   ]
  },
  {
   "cell_type": "code",
   "execution_count": 16,
   "id": "804ed06d",
   "metadata": {},
   "outputs": [
    {
     "name": "stderr",
     "output_type": "stream",
     "text": [
      "2022-07-27 12:43:28.669640: W tensorflow/stream_executor/platform/default/dso_loader.cc:64] Could not load dynamic library 'libcuda.so.1'; dlerror: libcuda.so.1: cannot open shared object file: No such file or directory\n",
      "2022-07-27 12:43:28.669657: W tensorflow/stream_executor/cuda/cuda_driver.cc:269] failed call to cuInit: UNKNOWN ERROR (303)\n",
      "2022-07-27 12:43:28.669666: I tensorflow/stream_executor/cuda/cuda_diagnostics.cc:156] kernel driver does not appear to be running on this host (imasonliu-LC13): /proc/driver/nvidia/version does not exist\n",
      "2022-07-27 12:43:28.669887: I tensorflow/core/platform/cpu_feature_guard.cc:193] This TensorFlow binary is optimized with oneAPI Deep Neural Network Library (oneDNN) to use the following CPU instructions in performance-critical operations:  AVX2 FMA\n",
      "To enable them in other operations, rebuild TensorFlow with the appropriate compiler flags.\n"
     ]
    },
    {
     "name": "stdout",
     "output_type": "stream",
     "text": [
      "tf.Tensor(-0.9999535, shape=(), dtype=float32) tf.Tensor((-1.5611656+0j), shape=(), dtype=complex64)\n"
     ]
    }
   ],
   "source": [
    "tc.set_dtype(\"complex64\")\n",
    "K=tc.set_backend(\"tensorflow\")\n",
    "\n",
    "def expectation_of_matrix_1(a0,a1,theta):\n",
    "    P=Pauli[a0]\n",
    "    P=tc.array_to_tensor(P)\n",
    "    Q=Pauli[a1]\n",
    "    Q=tc.array_to_tensor(Q)\n",
    "    v_theta=tc.backend.expm(0.5*1j*theta*P)@v0\n",
    "    intermediate=Q@v_theta\n",
    "    return K.real((K.transpose(K.conj(v_theta))@intermediate)[0][0])\n",
    "\n",
    "def found_min_f_1(step,x_0,g):\n",
    "    f_min=g(1,2,x_0)\n",
    "    diff=K.grad(g,argnums=2)(1,2,x_0)\n",
    "    while abs(diff)>=1e-2:\n",
    "        f_temp=g(1,2,x_0-step*diff)\n",
    "        if f_temp<f_min:\n",
    "            x_0=x_0-step*diff\n",
    "            f_min=f_temp\n",
    "        else:\n",
    "            step=step/2\n",
    "        diff=K.grad(g,argnums=2)(1,2,x_0)\n",
    "    return f_min,x_0\n",
    "    \n",
    "f_min,x_0=found_min_f_1(0.1,tc.array_to_tensor(0.25*np.pi),expectation_of_matrix_1)\n",
    "print(f_min,x_0)"
   ]
  },
  {
   "cell_type": "markdown",
   "id": "645dc42c",
   "metadata": {},
   "source": [
    "## 1.4 量子线路"
   ]
  },
  {
   "cell_type": "markdown",
   "id": "b24c0722",
   "metadata": {},
   "source": [
    "### 1.4.1 态生成"
   ]
  },
  {
   "cell_type": "code",
   "execution_count": 17,
   "id": "2859724b",
   "metadata": {},
   "outputs": [
    {
     "name": "stdout",
     "output_type": "stream",
     "text": [
      "tf.Tensor([0.70710677+0.j 0.        +0.j 0.        +0.j 0.70710677+0.j], shape=(4,), dtype=complex64)\n",
      "     ┌───┐     \n",
      "q_0: ┤ H ├──■──\n",
      "     └───┘┌─┴─┐\n",
      "q_1: ─────┤ X ├\n",
      "          └───┘\n",
      "tf.Tensor([0.49999997+0.j 0.49999997+0.j 0.49999997+0.j 0.49999997+0.j], shape=(4,), dtype=complex64)\n",
      "     ┌───┐\n",
      "q_0: ┤ H ├\n",
      "     ├───┤\n",
      "q_1: ┤ H ├\n",
      "     └───┘\n",
      "tf.Tensor([0.+0.j 0.+0.j 0.+0.j 0.+0.j 1.+0.j 0.+0.j 0.+0.j 0.+0.j], shape=(8,), dtype=complex64)\n",
      "     ┌────┐   \n",
      "q_0: ┤ U1 ├─X─\n",
      "     ├────┤ │ \n",
      "q_1: ┤ U2 ├─X─\n",
      "     └────┘ │ \n",
      "q_2: ───────■─\n",
      "              \n"
     ]
    }
   ],
   "source": [
    "def n_qbit_circuit1(n):\n",
    "    c=tc.Circuit(n)\n",
    "    c.h(0)\n",
    "    for i in range(1,n):\n",
    "        c.cnot(0,i)\n",
    "    print(c.state())\n",
    "    print(c.draw())\n",
    "\n",
    "def n_qbit_circuit2(n):\n",
    "    c=tc.Circuit(n)\n",
    "    for i in range(n):\n",
    "        c.h(i)\n",
    "    print(c.state())\n",
    "    print(c.draw())\n",
    "\n",
    "n_qbit_circuit1(2)\n",
    "n_qbit_circuit2(2)\n",
    "\n",
    "def given_transpose():\n",
    "    c=tc.Circuit(3)\n",
    "    c.ANY(0,unitary=tc.array_to_tensor([[0,1],[1,0]]),name=\"U1\")\n",
    "    c.ANY(1,unitary=tc.array_to_tensor([[1,0],[0,-1]]),name=\"U2\")\n",
    "    c.cswap(2,0,1)\n",
    "    print(c.state())\n",
    "    print(c.draw())\n",
    "\n",
    "given_transpose()"
   ]
  },
  {
   "cell_type": "markdown",
   "id": "90da9e0a",
   "metadata": {},
   "source": [
    "对第一个量子线路，考虑将第一个量子比特经Hadamard门转换为 $|0\\rangle+|1\\rangle$,再用CNOT门将其余量子比特进行控制"
   ]
  },
  {
   "cell_type": "markdown",
   "id": "b893aac0",
   "metadata": {},
   "source": [
    "对第二个量子线路，每个量子比特经Hadamard门转换为 $|0\\rangle+|1\\rangle$，即得到结果"
   ]
  },
  {
   "cell_type": "markdown",
   "id": "0dce0ac4",
   "metadata": {},
   "source": [
    " 对第三个量子线路，引入辅助量子比特，用辅助量子比特与CSWAP门使得经U1与U2变换的量子态形成叠加"
   ]
  },
  {
   "cell_type": "markdown",
   "id": "684eb8e1",
   "metadata": {},
   "source": [
    "### 1.4.2 多比特下的参数平移"
   ]
  },
  {
   "cell_type": "code",
   "execution_count": 18,
   "id": "9f9f9aa0",
   "metadata": {},
   "outputs": [
    {
     "data": {
      "image/png": "[encoded data removed]",
      "text/plain": [
       "<Figure size 432x288 with 1 Axes>"
      ]
     },
     "metadata": {
      "needs_background": "light"
     },
     "output_type": "display_data"
    },
    {
     "name": "stdout",
     "output_type": "stream",
     "text": [
      "tf.Tensor(\n",
      "[[-0.35355332 -0.6123723 ]\n",
      " [-0.7071066  -0.7071067 ]], shape=(2, 2), dtype=float32)\n",
      "tf.Tensor(-0.7071066, shape=(), dtype=float32)\n"
     ]
    }
   ],
   "source": [
    "def exp_sumz(n,nlayers,param):\n",
    "    c=tc.Circuit(n)\n",
    "    for j in range(nlayers):\n",
    "        for i in range(n):\n",
    "            c.rx(i,theta=param[i][j])\n",
    "        for i in range(n-1):\n",
    "            c.cnot(i,i+1)\n",
    "    return K.real(K.sum([c.expectation_ps(z=[i]) for i in range(n)]))\n",
    "\n",
    "X=np.arange(0,2*np.pi,0.01)\n",
    "plt.plot(X,[exp_sumz(2,2,[[np.pi/6,np.pi/4],[np.pi/4,x]]) for x in X])\n",
    "plt.show()\n",
    "print(K.grad(exp_sumz, argnums=2)(2,2,K.convert_to_tensor([[np.pi/6,np.pi/4],[np.pi/4,np.pi/4]])))\n",
    "\n",
    "print(exp_sumz(2,2,[[np.pi/6,np.pi/4],[np.pi/4,np.pi/4+np.pi/6]])-\n",
    "      exp_sumz(2,2,[[np.pi/6,np.pi/4],[np.pi/4,np.pi/4-np.pi/6]]))"
   ]
  },
  {
   "cell_type": "markdown",
   "id": "4de57400",
   "metadata": {},
   "source": [
    "验证参数平移在多个参数时是否仍然成立"
   ]
  },
  {
   "cell_type": "markdown",
   "id": "e5eb69dd",
   "metadata": {},
   "source": [
    "### 1.4.3 量子门分解"
   ]
  },
  {
   "cell_type": "markdown",
   "id": "77d49338",
   "metadata": {},
   "source": [
    "#### 用 CNOT 门实现 SWAP 门\n",
    "\n",
    "如果已知可以不用辅助位只用控制非门实现交换门，那么可以做如下考量：线路上仅能执行两种控制非门，而连续执行两个相同的控制非门没有任何意义，所以相邻两个控制非门的控制位与目标位一定分别不同。又两位地位相同，因而可以模拟单一过程直到发现执行了交换门，并发现为 3 次。\n",
    "\n",
    "实际上 OI 中存在一种交换两数 `std::enable_if_t<std::is_unsigned_v<T>, T> a, b;` 的方法 `a ^= b ^= a ^= b`，分解到每一位上实际上就是这个过程（控制非门对应于异或赋值）。\n",
    "\n",
    "```python\n",
    "c = tc.Circuit(2)\n",
    "\n",
    "c.cnot(0, 1)\n",
    "c.cnot(1, 0)\n",
    "c.cnot(0, 1)\n",
    "\n",
    "d = tc.Circuit(2)\n",
    "d.swap(0, 1)\n",
    "\n",
    "print(np.allclose(c.matrix(), d.matrix()))\n",
    "c.draw(output='mpl')\n",
    "```\n",
    "\n",
    "![](./swap_by_cnot.png)\n",
    "\n",
    "#### 用 CNOT 门和 Rz 门实现 Rzz 门\n",
    "\n",
    "$$\n",
    "\\begin{aligned}\n",
    "R_z(\\theta)&=\\exp\\left(-i\\theta/2\\hat Z\\right).\\\\\n",
    "R_{zz}(\\theta)&=\\exp\\left(-i\\theta/2\\hat Z\\otimes\\hat Z\\right).\n",
    "\\end{aligned}\n",
    "$$\n",
    "\n",
    "简单计算知\n",
    "\n",
    "$$\n",
    "\\hat Z\\otimes\\hat Z=\\begin{pmatrix}\n",
    "1&0&0&0\\\\\n",
    "0&-1&0&0\\\\\n",
    "0&0&-1&0\\\\\n",
    "0&0&0&1\n",
    "\\end{pmatrix}.\n",
    "$$\n",
    "\n",
    "感性理解，$|00\\rangle,|11\\rangle$ 对应一位的 $|0\\rangle$，$|01\\rangle,|10\\rangle$ 对应 $|1\\rangle$，这可以通过控制非做到。\n",
    "\n",
    "```python\n",
    "c = tc.Circuit(2)\n",
    "\n",
    "theta = float(input())\n",
    "\n",
    "c.cnot(0, 1)\n",
    "c.rz(1, theta = theta)\n",
    "c.cnot(0, 1)\n",
    "c.cnot(1, 0)\n",
    "c.rz(0, theta = theta)\n",
    "c.cnot(1, 0)\n",
    "\n",
    "d = tc.Circuit(2)\n",
    "d.rzz(0, 1, theta=theta)\n",
    "\n",
    "print(np.allclose(c.matrix(), d.matrix()))\n",
    "c.draw(output='mpl')\n",
    "```\n",
    "\n",
    "![](./rzz_by_cnot_rz.png)\n",
    "\n",
    "容易计算验证。"
   ]
  },
  {
   "cell_type": "markdown",
   "id": "75b38474",
   "metadata": {},
   "source": [
    "### 1.4.4 线路解释"
   ]
  },
  {
   "cell_type": "markdown",
   "id": "7a8547a9",
   "metadata": {},
   "source": [
    "考虑以下代码\n",
    "\n",
    "实现的线路及测量的得到的结果。\n"
   ]
  },
  {
   "cell_type": "code",
   "execution_count": 19,
   "id": "1d1c8553",
   "metadata": {},
   "outputs": [
    {
     "data": {
      "text/plain": [
       "<tf.Tensor: shape=(), dtype=complex64, numpy=(0.9999999+0j)>"
      ]
     },
     "execution_count": 19,
     "metadata": {},
     "output_type": "execute_result"
    }
   ],
   "source": [
    "def hmtest(s, u):\n",
    "    np.testing.assert_allclose(\n",
    "        np.conj(u) @ np.transpose(u), np.eye(u.shape[-1]), atol=1e-6\n",
    "    )\n",
    "    input_state = np.kron(np.array([1, 0]), s)\n",
    "    n = int(np.log(s.shape[-1]) / np.log(2))\n",
    "    c = tc.Circuit(n + 1, inputs=input_state)\n",
    "    c.H(0)\n",
    "    c.multicontrol(*range(n + 1), ctrl=[1], unitary=u)\n",
    "    c.H(0)\n",
    "    return c.expectation_ps(z=[0])\n",
    "\n",
    "\n",
    "hmtest(\n",
    "    np.array([1.0, 0, 0, 0]),\n",
    "    np.kron(np.array([[1.0, 0], [0, -1]]), np.array([[1.0, 0], [0, -1]])),\n",
    ")"
   ]
  },
  {
   "cell_type": "markdown",
   "id": "5a049660",
   "metadata": {},
   "source": [
    "考虑以下代码实现的线路及测量的得到的结果。\n",
    "\n",
    "```python\n",
    "def hmtest(s, u):\n",
    "    np.testing.assert_allclose(\n",
    "        np.conj(u) @ np.transpose(u), np.eye(u.shape[-1]), atol=1e-6\n",
    "    )\n",
    "    input_state = np.kron(np.array([1, 0]), s)\n",
    "    n = int(np.log(s.shape[-1]) / np.log(2))\n",
    "    c = tc.Circuit(n + 1, inputs=input_state)\n",
    "    c.H(0)\n",
    "    c.multicontrol(*range(n + 1), ctrl=[1], unitary=u)\n",
    "    c.H(0)\n",
    "    return c.expectation_ps(z=[0])\n",
    "\n",
    "\n",
    "hmtest(\n",
    "    np.array([1.0, 0, 0, 0]),\n",
    "    np.kron(np.array([[1.0, 0], [0, -1]]), np.array([[1.0, 0], [0, -1]])),\n",
    ")\n",
    "```\n",
    "\n",
    "理解线路图，其实际上计算的是 $v^{\\mathsf T}\\hat Zv$，其中\n",
    "\n",
    "$$\n",
    "v=\\frac12\n",
    "\\begin{pmatrix}\n",
    "I&I\\\\\n",
    "I&-I\\\\\n",
    "\\end{pmatrix}\n",
    "\\begin{pmatrix}\n",
    "I&0\\\\\n",
    "0&U\\\\\n",
    "\\end{pmatrix}\n",
    "\\begin{pmatrix}\n",
    "I&I\\\\\n",
    "I&-I\\\\\n",
    "\\end{pmatrix}\n",
    "\\begin{pmatrix}\n",
    "S\\\\\n",
    "0\n",
    "\\end{pmatrix}=\\frac12\n",
    "\\begin{pmatrix}\n",
    "S+US\\\\\n",
    "S-US\n",
    "\\end{pmatrix}.\n",
    "$$\n",
    "\n",
    "即测量 $\\hat Z$ 关于 $\\displaystyle\\frac12\n",
    "\\begin{pmatrix}\n",
    "S+US\\\\\n",
    "S-US\n",
    "\\end{pmatrix}$ 的期望。"
   ]
  },
  {
   "cell_type": "markdown",
   "id": "06560cfd",
   "metadata": {},
   "source": [
    "## 1.5 量子算法"
   ]
  },
  {
   "cell_type": "markdown",
   "id": "3834aa47",
   "metadata": {},
   "source": [
    "### 1.5.1 问题oracle\n",
    "需要实现`oracle(c,Measure)`，其中`c`为待接入的量子电路，`Measure`为`False`时为将满足条件的状态取反，为`True`时为找到满足条件的概率。"
   ]
  },
  {
   "cell_type": "code",
   "execution_count": 20,
   "id": "f17ca2a3",
   "metadata": {},
   "outputs": [],
   "source": [
    "def oracle1(c,Measure):\n",
    "    for i in range(1,6): c.CNOT(0,i)\n",
    "    c.multicontrol(1,2,3,4,5,6,ctrl=[1,0,1,0,1],unitary=tc.gates.x())\n",
    "    if Measure:\n",
    "        return c.measure(6, with_prob = True)[0][0]\n",
    "    c.z(6)\n",
    "    c.multicontrol(1,2,3,4,5,6,ctrl=[1,0,1,0,1],unitary=tc.gates.x())\n",
    "    for i in range(1,6): c.CNOT(0,i)"
   ]
  },
  {
   "cell_type": "markdown",
   "id": "f6a8f85a",
   "metadata": {},
   "source": [
    "### 1.5.2 Grover算法实现"
   ]
  },
  {
   "cell_type": "code",
   "execution_count": 21,
   "id": "8ab1763f",
   "metadata": {},
   "outputs": [
    {
     "name": "stdout",
     "output_type": "stream",
     "text": [
      "tf.Tensor([1. 0. 1. 0. 1. 0.], shape=(6,), dtype=float32)\n",
      "1\n"
     ]
    }
   ],
   "source": [
    "def reflection(n,c):\n",
    "    for i in range(n):\n",
    "        c.H(i)\n",
    "        c.X(i)\n",
    "    c.multicontrol(*range(n), unitary=tc.gates.z(), ctrl=[1 for _ in range(n - 1)])\n",
    "    for i in range(n):\n",
    "        c.X(i)\n",
    "        c.H(i)\n",
    "    return c\n",
    "\n",
    "def grover1(n,m,oracle):\n",
    "    def grover1_unit(n,m,oracle,iterations):\n",
    "        c=tc.Circuit(n+m)\n",
    "        for i in range(n):\n",
    "            c.H(i)\n",
    "        for i in range(iterations):\n",
    "            oracle(c,False)\n",
    "            reflection(n,c)\n",
    "        return c.measure(*range(n), with_prob = True)\n",
    "    \n",
    "    mx,mul,run_time=1,1.2,0\n",
    "    while True:\n",
    "        run_time+=1\n",
    "#        q=grover_unit(n,m,oracle,randint(0,int(mx)))[0]\n",
    "        q=grover1_unit(n,m,oracle,int(2**(n/2)*np.pi/4))[0]\n",
    "        c=tc.Circuit(n+m)\n",
    "        for i in range(n):\n",
    "            if(q[i]>0.5): c.X(i)\n",
    "        if(oracle(c,True)>0.5):\n",
    "            print(q)\n",
    "            print(run_time)\n",
    "            return\n",
    "        mx=min(mx*mul,2**(n/2))\n",
    "\n",
    "grover1(6,2,oracle1)"
   ]
  },
  {
   "cell_type": "markdown",
   "id": "48b07f0e",
   "metadata": {},
   "source": [
    "### 1.5.3 未知解个数的Grover算法实现"
   ]
  },
  {
   "cell_type": "markdown",
   "id": "6158930d",
   "metadata": {},
   "source": [
    "如果有$t$个答案，一共有$N=2^n$种可能的状态。\n",
    "\n",
    "则令$\\theta=\\arcsin(\\sqrt{\\dfrac TN})$，进行$k$次oracle&reflection操作，其中$k$在$[0,m)$中随机选择，正确率为：\n",
    "\n",
    "$$\n",
    "\\begin{align}\n",
    "P(m)=&\\dfrac1m\\sum_{k=0}^{m-1}\\sin^2 (2k+1)\\theta\\\\\n",
    "=&\\dfrac1{2m}\\sum_{k=0}^{m-1}1-\\cos(4k+2)\\theta\\\\\n",
    "=&\\dfrac 12-\\dfrac1{2m}\\dfrac{\\sin(4m\\theta)}{2\\sin(2\\theta)}\n",
    "\\end{align}\n",
    "$$\n",
    "\n",
    "则$m\\ge \\sin(2\\theta)^{-1}\\Rightarrow P(m)>\\dfrac 14$。\n",
    "\n",
    "取$m=\\sqrt N$即可在$O(\\sqrt N)$的时间复杂度内求解。\n",
    "\n",
    "按以下步骤可以做到$O(\\sqrt{\\dfrac Nt})$：\n",
    "\n",
    "1. 令$m=1,\\lambda\\in(1,\\dfrac 43)$。\n",
    "2. 执行上述步骤，如果是解，则返回。\n",
    "3. 令$m\\leftarrow \\min(\\sqrt N,\\lambda m)$，重复执行2.\n",
    "\n",
    "证明：\n",
    "\n",
    "1. $m<\\sqrt{\\dfrac Nt}$时，则执行时间为$O(\\sqrt{\\dfrac Nt})\\sum_{i\\ge 0}\\lambda^{-i}=O(\\sqrt{\\dfrac Nt})$\n",
    "2. $m\\ge\\sqrt{\\dfrac Nt}$时，执行时间为$\\sum_{i\\ge 0}\\lambda^i(\\dfrac 43)^{-i}\\sqrt{\\dfrac Nt}=O(\\sqrt{\\dfrac Nt})$"
   ]
  },
  {
   "cell_type": "code",
   "execution_count": 22,
   "id": "a37f6241",
   "metadata": {},
   "outputs": [
    {
     "name": "stdout",
     "output_type": "stream",
     "text": [
      "tf.Tensor([1. 1. 1. 0. 1. 0.], shape=(6,), dtype=float32)\n",
      "6\n"
     ]
    }
   ],
   "source": [
    "from random import randint\n",
    "\n",
    "def oracle2(c,Measure):\n",
    "    for i in range(1,6): c.CNOT(0,i)\n",
    "    c.multicontrol(2,3,4,5,6,ctrl=[0,1,0,1],unitary=tc.gates.x())\n",
    "    if Measure: return c.measure(6, with_prob = True)[0][0]\n",
    "    c.z(6)\n",
    "    c.multicontrol(2,3,4,5,6,ctrl=[0,1,0,1],unitary=tc.gates.x())\n",
    "    for i in range(1,6): c.CNOT(0,i)\n",
    "\n",
    "def grover2(n,m,oracle):\n",
    "    def grover2_unit(n,m,oracle,iterations):\n",
    "        c=tc.Circuit(n+m)\n",
    "        for i in range(n):\n",
    "            c.H(i)\n",
    "        for i in range(iterations):\n",
    "            oracle(c,False)\n",
    "            reflection(n,c)\n",
    "        return c.measure(*range(n), with_prob = True)\n",
    "    \n",
    "    mx,mul,run_time=1,1.2,0\n",
    "    while True:\n",
    "        run_time+=1\n",
    "        q=grover2_unit(n,m,oracle,randint(0,int(mx)))[0]\n",
    "#        q=grover_unit(n,m,oracle,int(2**(n/2)*np.pi/4))[0]\n",
    "        c=tc.Circuit(n+m)\n",
    "        for i in range(n):\n",
    "            if(q[i]>0.5): c.X(i)\n",
    "        if(oracle(c,True)>0.5):\n",
    "            print(q)\n",
    "            print(run_time)\n",
    "            return\n",
    "        mx=min(mx*mul,2**(n/2))\n",
    "        \n",
    "        \n",
    "grover2(6,1,oracle2)"
   ]
  },
  {
   "cell_type": "markdown",
   "id": "4918f8c9",
   "metadata": {},
   "source": [
    "# 2 组合优化方向"
   ]
  },
  {
   "cell_type": "markdown",
   "id": "91403757",
   "metadata": {},
   "source": [
    "## 2.1 基础"
   ]
  },
  {
   "cell_type": "markdown",
   "id": "65090706",
   "metadata": {},
   "source": [
    "### 2.1.1 MAX CUT暴力求解"
   ]
  },
  {
   "cell_type": "code",
   "execution_count": 23,
   "id": "c6ed0552",
   "metadata": {},
   "outputs": [
    {
     "name": "stdout",
     "output_type": "stream",
     "text": [
      "4 3\n",
      "0 1\n",
      "1 2\n",
      "2 3\n",
      "(3, [1, 0, 1, 0])\n"
     ]
    }
   ],
   "source": [
    "edges=[]\n",
    "n, m = map(int, input().split())\n",
    "for _ in range(m):\n",
    "    edges.append([int(i) for i in input().split()])\n",
    "def MAXCUT(n,m,e):\n",
    "    ans,Ans=0,0\n",
    "    for i in range(1<<n):\n",
    "        _ans=0\n",
    "        for j in range(m):\n",
    "            if ((i>>e[j][0])&1)!=((i>>e[j][1])&1):\n",
    "                _ans+=1\n",
    "        if _ans>ans:\n",
    "            ans=_ans\n",
    "            Ans=i\n",
    "    return ans,[(Ans>>i)&1 for i in range(n)]\n",
    "\n",
    "print(MAXCUT(n,m,edges))"
   ]
  },
  {
   "cell_type": "markdown",
   "id": "c173aa3c",
   "metadata": {},
   "source": [
    "### 2.1.2 哈密顿量生成"
   ]
  },
  {
   "cell_type": "code",
   "execution_count": 24,
   "id": "ca9cff3a",
   "metadata": {},
   "outputs": [
    {
     "name": "stdout",
     "output_type": "stream",
     "text": [
      "4 3\n",
      "0 1\n",
      "1 2\n",
      "2 3\n",
      "[[0. 1. 1. 0. 1. 0. 0. 0. 1. 0. 0. 0. 0. 0. 0. 0.]\n",
      " [1. 0. 0. 1. 0. 1. 0. 0. 0. 1. 0. 0. 0. 0. 0. 0.]\n",
      " [1. 0. 0. 1. 0. 0. 1. 0. 0. 0. 1. 0. 0. 0. 0. 0.]\n",
      " [0. 1. 1. 0. 0. 0. 0. 1. 0. 0. 0. 1. 0. 0. 0. 0.]\n",
      " [1. 0. 0. 0. 0. 1. 1. 0. 0. 0. 0. 0. 1. 0. 0. 0.]\n",
      " [0. 1. 0. 0. 1. 0. 0. 1. 0. 0. 0. 0. 0. 1. 0. 0.]\n",
      " [0. 0. 1. 0. 1. 0. 0. 1. 0. 0. 0. 0. 0. 0. 1. 0.]\n",
      " [0. 0. 0. 1. 0. 1. 1. 0. 0. 0. 0. 0. 0. 0. 0. 1.]\n",
      " [1. 0. 0. 0. 0. 0. 0. 0. 0. 1. 1. 0. 1. 0. 0. 0.]\n",
      " [0. 1. 0. 0. 0. 0. 0. 0. 1. 0. 0. 1. 0. 1. 0. 0.]\n",
      " [0. 0. 1. 0. 0. 0. 0. 0. 1. 0. 0. 1. 0. 0. 1. 0.]\n",
      " [0. 0. 0. 1. 0. 0. 0. 0. 0. 1. 1. 0. 0. 0. 0. 1.]\n",
      " [0. 0. 0. 0. 1. 0. 0. 0. 1. 0. 0. 0. 0. 1. 1. 0.]\n",
      " [0. 0. 0. 0. 0. 1. 0. 0. 0. 1. 0. 0. 1. 0. 0. 1.]\n",
      " [0. 0. 0. 0. 0. 0. 1. 0. 0. 0. 1. 0. 1. 0. 0. 1.]\n",
      " [0. 0. 0. 0. 0. 0. 0. 1. 0. 0. 0. 1. 0. 1. 1. 0.]]\n",
      "[[ 3.  0.  0.  0.  0.  0.  0.  0.  0.  0.  0.  0.  0.  0.  0.  0.]\n",
      " [ 0.  1.  0.  0.  0.  0.  0.  0.  0.  0.  0.  0.  0.  0.  0.  0.]\n",
      " [ 0.  0. -1.  0.  0.  0.  0.  0.  0.  0.  0.  0.  0.  0.  0.  0.]\n",
      " [ 0.  0.  0.  1.  0.  0.  0.  0.  0.  0.  0.  0.  0.  0.  0.  0.]\n",
      " [ 0.  0.  0.  0. -1.  0.  0.  0.  0.  0.  0.  0.  0.  0.  0.  0.]\n",
      " [ 0.  0.  0.  0.  0. -3.  0.  0.  0.  0.  0.  0.  0.  0.  0.  0.]\n",
      " [ 0.  0.  0.  0.  0.  0. -1.  0.  0.  0.  0.  0.  0.  0.  0.  0.]\n",
      " [ 0.  0.  0.  0.  0.  0.  0.  1.  0.  0.  0.  0.  0.  0.  0.  0.]\n",
      " [ 0.  0.  0.  0.  0.  0.  0.  0.  1.  0.  0.  0.  0.  0.  0.  0.]\n",
      " [ 0.  0.  0.  0.  0.  0.  0.  0.  0. -1.  0.  0.  0.  0.  0.  0.]\n",
      " [ 0.  0.  0.  0.  0.  0.  0.  0.  0.  0. -3.  0.  0.  0.  0.  0.]\n",
      " [ 0.  0.  0.  0.  0.  0.  0.  0.  0.  0.  0. -1.  0.  0.  0.  0.]\n",
      " [ 0.  0.  0.  0.  0.  0.  0.  0.  0.  0.  0.  0.  1.  0.  0.  0.]\n",
      " [ 0.  0.  0.  0.  0.  0.  0.  0.  0.  0.  0.  0.  0. -1.  0.  0.]\n",
      " [ 0.  0.  0.  0.  0.  0.  0.  0.  0.  0.  0.  0.  0.  0.  1.  0.]\n",
      " [ 0.  0.  0.  0.  0.  0.  0.  0.  0.  0.  0.  0.  0.  0.  0.  3.]]\n"
     ]
    }
   ],
   "source": [
    "edges=[]\n",
    "n, m = map(int, input().split())\n",
    "for _ in range(m):\n",
    "    edges.append([int(i) for i in input().split()])\n",
    "def H_b(n):\n",
    "    Hb = np.zeros((2**n, 2**n))\n",
    "    for i in range(n):\n",
    "        Hb += np.kron(np.kron(I(2**i),tx),I(2**(n-i-1)))\n",
    "    return Hb\n",
    "def H_c(n,edges):\n",
    "    Hc = np.zeros((2**n, 2**n))\n",
    "    for e in edges:\n",
    "        Hc += np.kron(np.kron(I(2**e[0]),tz),I(2**(n-e[0]-1)))*np.kron(np.kron(I(2**e[1]),tz), I(2**(n-e[1]-1)))\n",
    "    return Hc\n",
    "print(H_b(n))\n",
    "print(H_c(n,edges))"
   ]
  },
  {
   "cell_type": "markdown",
   "id": "d41c8dce",
   "metadata": {},
   "source": [
    "# 2.1.3 MAX CUT与矩阵本征值"
   ]
  },
  {
   "cell_type": "markdown",
   "id": "1a3873e9",
   "metadata": {},
   "source": [
    "我们来分析 $H_c$ 的组合意义。\n",
    "\n",
    "$Z_i$ 是对角矩阵，对角线上的 $2^n$ 个元素其实表示了 $2^n$ 种分组方式里点 $i$ 的状态（1,-1表示两个不同的组）\n",
    "\n",
    "于是 $Z_iZ_j$ 的对角线元素表示：在对应的分组情形下，若为1则点 $i,j$ 同组，若为-1则不同组\n",
    "\n",
    "于是 $H_c$ 的本征值，也即它的对角线元素，就等于对应二分情况下的边数-2倍CUT值\n",
    "\n",
    "换言之，$H_c$ 矩阵的最小本征值=边数-2倍MAX CUT值。"
   ]
  },
  {
   "cell_type": "code",
   "execution_count": 25,
   "id": "3a125d40",
   "metadata": {},
   "outputs": [
    {
     "name": "stdout",
     "output_type": "stream",
     "text": [
      "4 3\n",
      "0 1\n",
      "1 2\n",
      "2 3\n",
      "True\n"
     ]
    }
   ],
   "source": [
    "edges=[]\n",
    "n, m = map(int, input().split())\n",
    "for _ in range(m):\n",
    "    edges.append([int(i) for i in input().split()])\n",
    "t=0\n",
    "Hc=H_c(n,edges)\n",
    "M=MAXCUT(n,m,edges)[0]\n",
    "for i in range(2**n):\n",
    "    if Hc[i][i]<m-2*M:\n",
    "        print('False')\n",
    "    if Hc[i][i]==m-2*M:\n",
    "        t=1\n",
    "if t==1:\n",
    "    print('True')\n",
    "else:\n",
    "    print('False')"
   ]
  },
  {
   "cell_type": "markdown",
   "id": "a4b01b82",
   "metadata": {},
   "source": [
    "# 2.2 QAOA实现"
   ]
  },
  {
   "cell_type": "markdown",
   "id": "6c06f19f",
   "metadata": {},
   "source": [
    "### 2.2.1 Tensorcircuit前向实现"
   ]
  },
  {
   "cell_type": "code",
   "execution_count": 26,
   "id": "46dc55eb",
   "metadata": {},
   "outputs": [
    {
     "name": "stdout",
     "output_type": "stream",
     "text": [
      "tf.Tensor(7.450581e-09, shape=(), dtype=float32)\n"
     ]
    }
   ],
   "source": [
    "import math\n",
    "K=tc.set_backend(\"tensorflow\")\n",
    "\n",
    "edges = []\n",
    "\n",
    "#n, m = map(int, input().split())\n",
    "#for _ in range(m):\n",
    "#    edges.append([int(i) for i in input().split()])\n",
    "\n",
    "#p = int(input())\n",
    "\n",
    "n,m=4,3\n",
    "edges.append((0,1));\n",
    "edges.append((1,2));\n",
    "edges.append((2,3));\n",
    "#edges.append((3,0));\n",
    "p=3;\n",
    "\n",
    "def u_beta(c, beta):\n",
    "    for i in range(n):\n",
    "        c.rx(i, theta = 2*beta)\n",
    "\n",
    "def u_gamma(c, gamma):\n",
    "    for e in edges:\n",
    "        x, y = e\n",
    "        c.rzz(x, y, theta = gamma)\n",
    "\n",
    "betas = [ math.pi/4 for _ in range(p) ]\n",
    "gammas = [ 0.6 for _ in range(p) ]\n",
    "\n",
    "def loss_cell(params):\n",
    "    betas, gammas = params[:p],params[p:]\n",
    "    c = tc.Circuit(n);\n",
    "    for i in range(n):\n",
    "        c.h(i)\n",
    "    for i in range(p):\n",
    "        u_gamma(c, gammas[i])\n",
    "        u_beta(c, betas[i])\n",
    "    return c\n",
    "\n",
    "def loss(params):\n",
    "    c = loss_cell(params)\n",
    "    Loss = K.real(0.)\n",
    "    for e in edges:\n",
    "        Loss += K.real(c.expectation_ps(z = [e[0], e[1]]))\n",
    "    return Loss\n",
    "\n",
    "print(loss(betas+gammas))"
   ]
  },
  {
   "cell_type": "markdown",
   "id": "16b69b3c",
   "metadata": {},
   "source": [
    "### 2.2.2 TensorCircuit完整实现"
   ]
  },
  {
   "cell_type": "code",
   "execution_count": 27,
   "id": "8d7a6e6c",
   "metadata": {},
   "outputs": [
    {
     "name": "stdout",
     "output_type": "stream",
     "text": [
      "On iteration 0 :  tf.Tensor(7.450581e-09, shape=(), dtype=float32)\n",
      "On iteration 5 :  tf.Tensor(-1.0616698, shape=(), dtype=float32)\n",
      "On iteration 10 :  tf.Tensor(-1.9311253, shape=(), dtype=float32)\n",
      "On iteration 15 :  tf.Tensor(-2.7369523, shape=(), dtype=float32)\n",
      "On iteration 20 :  tf.Tensor(-2.9190664, shape=(), dtype=float32)\n",
      "On iteration 25 :  tf.Tensor(-2.9482992, shape=(), dtype=float32)\n",
      "On iteration 30 :  tf.Tensor(-2.9539924, shape=(), dtype=float32)\n",
      "On iteration 35 :  tf.Tensor(-2.9553175, shape=(), dtype=float32)\n",
      "On iteration 40 :  tf.Tensor(-2.9556715, shape=(), dtype=float32)\n",
      "On iteration 45 :  tf.Tensor(-2.9557776, shape=(), dtype=float32)\n",
      "On iteration 50 :  tf.Tensor(-2.955813, shape=(), dtype=float32)\n",
      "On iteration 55 :  tf.Tensor(-2.9558263, shape=(), dtype=float32)\n",
      "On iteration 60 :  tf.Tensor(-2.955831, shape=(), dtype=float32)\n",
      "On iteration 65 :  tf.Tensor(-2.955833, shape=(), dtype=float32)\n",
      "On iteration 70 :  tf.Tensor(-2.9558337, shape=(), dtype=float32)\n",
      "break on  72\n",
      "(<tf.Tensor: shape=(4,), dtype=float32, numpy=array([1., 0., 1., 0.], dtype=float32)>, <tf.Tensor: shape=(), dtype=float32, numpy=0.48924035>)\n"
     ]
    }
   ],
   "source": [
    "K=tc.set_backend(\"tensorflow\")\n",
    "\n",
    "speed = 0.01\n",
    "# speed = 0.001\n",
    "gloss = K.grad(loss)\n",
    "for iteration in range(1000):\n",
    "    grad = gloss(K.convert_to_tensor(betas+gammas))\n",
    "#    bef = loss(betas + gammas)\n",
    "    if iteration % 5 == 0:\n",
    "        print('On iteration', iteration, ': ', loss(betas + gammas))\n",
    "    if grad == None or sum(np.abs(x) for x in grad) < 0.01:\n",
    "        print(\"break on \",iteration)\n",
    "        break\n",
    "    for i in range(p):\n",
    "        betas[i] -= grad[i] * speed\n",
    "        gammas[i] -= grad[i + p] * speed\n",
    "    speed *= 0.99\n",
    "c=loss_cell(betas + gammas)\n",
    "\n",
    "print(c.measure(*range(n),with_prob = True))"
   ]
  },
  {
   "cell_type": "markdown",
   "id": "876ff66f",
   "metadata": {},
   "source": [
    "### 2.2.3 线路参数的性质"
   ]
  },
  {
   "cell_type": "code",
   "execution_count": 28,
   "id": "e6625c40",
   "metadata": {},
   "outputs": [
    {
     "data": {
      "image/png": "[encoded data removed]",
      "text/plain": [
       "<Figure size 432x288 with 1 Axes>"
      ]
     },
     "metadata": {
      "needs_background": "light"
     },
     "output_type": "display_data"
    }
   ],
   "source": [
    "def loss1(a):\n",
    "    betas[1]=a\n",
    "    return loss(betas+gammas)\n",
    "\n",
    "def loss2(a):\n",
    "    gammas[0]=a\n",
    "    return loss(betas+gammas)\n",
    "\n",
    "def draw_function(f,s,t,point_num):\n",
    "    x_arr,y_arr=[],[]\n",
    "    for i in range(point_num+1):\n",
    "        v=s+(t-s)*1./point_num*i;\n",
    "        x_arr.append(v)\n",
    "        y_arr.append(f(v))\n",
    "    plt.plot(x_arr,y_arr)\n",
    "\n",
    "draw_function(loss1,0,2*np.pi,100)\n",
    "draw_function(loss2,0,2*np.pi,100)"
   ]
  },
  {
   "cell_type": "markdown",
   "id": "5eba48b2",
   "metadata": {},
   "source": [
    "### 2.2.4 无梯度优化实现"
   ]
  },
  {
   "cell_type": "code",
   "execution_count": 29,
   "id": "af4326c4",
   "metadata": {},
   "outputs": [
    {
     "name": "stdout",
     "output_type": "stream",
     "text": [
      "6 9\n",
      "0 3\n",
      "0 4\n",
      "0 5\n",
      "1 3\n",
      "1 4\n",
      "1 5\n",
      "2 3\n",
      "2 4\n",
      "2 5\n",
      " final_simplex: (array([[1.02371407, 0.87524258, 1.16305664, 0.93698168, 1.09010784,\n",
      "        1.21774102, 0.87866259, 1.07129598, 0.88058215, 1.05952745],\n",
      "       [1.023719  , 0.87523311, 1.16306398, 0.93696706, 1.09009661,\n",
      "        1.21771687, 0.87865701, 1.0713009 , 0.88059421, 1.0595086 ],\n",
      "       [1.02371301, 0.87522665, 1.1630768 , 0.93697213, 1.09011276,\n",
      "        1.21774207, 0.8786682 , 1.07131576, 0.8805792 , 1.05954161],\n",
      "       [1.02371585, 0.87522037, 1.1630917 , 0.93695894, 1.09011508,\n",
      "        1.21775948, 0.87867277, 1.07135647, 0.88059625, 1.0595358 ],\n",
      "       [1.0237371 , 0.87521401, 1.16308917, 0.93694855, 1.09008958,\n",
      "        1.21773791, 0.87867915, 1.07134729, 0.88060788, 1.05950228],\n",
      "       [1.02375889, 0.87520241, 1.16309993, 0.93694403, 1.09009338,\n",
      "        1.21773838, 0.87868339, 1.07133253, 0.8805886 , 1.05946937],\n",
      "       [1.02373076, 0.87522606, 1.16307622, 0.93697125, 1.09008917,\n",
      "        1.21775993, 0.87870252, 1.07135982, 0.88059606, 1.05951249],\n",
      "       [1.02374387, 0.87522213, 1.1630906 , 0.93695233, 1.09007227,\n",
      "        1.21769544, 0.8786905 , 1.07131904, 0.8806284 , 1.0595002 ],\n",
      "       [1.02372849, 0.87523665, 1.16306877, 0.93696528, 1.09010194,\n",
      "        1.21774218, 0.8786968 , 1.07133413, 0.8806024 , 1.05952067],\n",
      "       [1.02371403, 0.87522631, 1.16308153, 0.9369669 , 1.09010326,\n",
      "        1.21776527, 0.87868113, 1.07132412, 0.88058386, 1.05952005],\n",
      "       [1.02371631, 0.87521046, 1.16308228, 0.93696127, 1.09010391,\n",
      "        1.21771018, 0.87864402, 1.07128833, 0.88058955, 1.05951118]]), array([-8.99835312, -8.99834561, -8.99834347, -8.99834347, -8.99834025,\n",
      "       -8.99833488, -8.9983322 , -8.9983322 , -8.99833113, -8.9983263 ,\n",
      "       -8.99831557]))\n",
      "           fun: -8.998353123664856\n",
      "       message: 'Optimization terminated successfully.'\n",
      "          nfev: 534\n",
      "           nit: 338\n",
      "        status: 0\n",
      "       success: True\n",
      "             x: array([1.02371407, 0.87524258, 1.16305664, 0.93698168, 1.09010784,\n",
      "       1.21774102, 0.87866259, 1.07129598, 0.88058215, 1.05952745])\n"
     ]
    }
   ],
   "source": [
    "edges = []\n",
    "p=5\n",
    "\n",
    "K=tc.set_backend(\"numpy\")\n",
    "\n",
    "n, m = map(int, input().split())\n",
    "for _ in range(m):\n",
    "    edges.append([int(i) for i in input().split()])\n",
    "\n",
    "params = [1. for _ in range(2*p)]\n",
    "params=np.transpose(np.array(params))\n",
    "        \n",
    "def LOSS(params):\n",
    "    c = LOSS_cell(params)\n",
    "    Loss = K.real(0.);\n",
    "    for e in edges:\n",
    "        Loss += K.real(c.expectation_ps(z = [e[0], e[1]]))\n",
    "    return Loss\n",
    "\n",
    "def LOSS_cell(params):\n",
    "    c = tc.Circuit(n);\n",
    "    for i in range(n):\n",
    "        c.h(i)\n",
    "    for i in range(p):\n",
    "        u_gamma(c,params[i])\n",
    "        u_beta(c,params[i+p])\n",
    "    return c\n",
    "\n",
    "print(scipy.optimize.minimize(LOSS,params, method=\"Nelder-Mead\"))"
   ]
  },
  {
   "cell_type": "code",
   "execution_count": null,
   "id": "61e36843",
   "metadata": {},
   "outputs": [],
   "source": []
  }
 ],
 "metadata": {
  "kernelspec": {
   "display_name": "Python 3 (ipykernel)",
   "language": "python",
   "name": "python3"
  },
  "language_info": {
   "codemirror_mode": {
    "name": "ipython",
    "version": 3
   },
   "file_extension": ".py",
   "mimetype": "text/x-python",
   "name": "python",
   "nbconvert_exporter": "python",
   "pygments_lexer": "ipython3",
   "version": "3.8.13"
  }
 },
 "nbformat": 4,
 "nbformat_minor": 5
}
